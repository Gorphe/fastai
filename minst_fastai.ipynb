{
  "nbformat": 4,
  "nbformat_minor": 0,
  "metadata": {
    "colab": {
      "name": "minst fastai.ipynb",
      "provenance": [],
      "collapsed_sections": [],
      "authorship_tag": "ABX9TyMJVSGbwsh2km6fbEPEVvvg",
      "include_colab_link": true
    },
    "kernelspec": {
      "name": "python3",
      "display_name": "Python 3"
    },
    "language_info": {
      "name": "python"
    }
  },
  "cells": [
    {
      "cell_type": "markdown",
      "metadata": {
        "id": "view-in-github",
        "colab_type": "text"
      },
      "source": [
        "<a href=\"https://colab.research.google.com/github/Gorphe/fastai/blob/master/minst_fastai.ipynb\" target=\"_parent\"><img src=\"https://colab.research.google.com/assets/colab-badge.svg\" alt=\"Open In Colab\"/></a>"
      ]
    },
    {
      "cell_type": "code",
      "execution_count": null,
      "metadata": {
        "id": "RvEYga1PILN6"
      },
      "outputs": [],
      "source": [
        "from fastai.vision.all import *"
      ]
    },
    {
      "cell_type": "markdown",
      "source": [
        "Pixels: the fundations of computer vision"
      ],
      "metadata": {
        "id": "i4kvpb7Juje-"
      }
    },
    {
      "cell_type": "code",
      "source": [
        "path = untar_data(URLs.MNIST_SAMPLE)"
      ],
      "metadata": {
        "colab": {
          "base_uri": "https://localhost:8080/",
          "height": 37
        },
        "id": "pe0ZC3H9IR5Q",
        "outputId": "fe31ee49-d93d-44a7-b1f4-d8e4e4f2b2f1"
      },
      "execution_count": null,
      "outputs": [
        {
          "output_type": "display_data",
          "data": {
            "text/plain": [
              "<IPython.core.display.HTML object>"
            ],
            "text/html": [
              "\n",
              "<style>\n",
              "    /* Turns off some styling */\n",
              "    progress {\n",
              "        /* gets rid of default border in Firefox and Opera. */\n",
              "        border: none;\n",
              "        /* Needs to be in here for Safari polyfill so background images work as expected. */\n",
              "        background-size: auto;\n",
              "    }\n",
              "    .progress-bar-interrupted, .progress-bar-interrupted::-webkit-progress-bar {\n",
              "        background: #F44336;\n",
              "    }\n",
              "</style>\n"
            ]
          },
          "metadata": {}
        },
        {
          "output_type": "display_data",
          "data": {
            "text/plain": [
              "<IPython.core.display.HTML object>"
            ],
            "text/html": [
              "\n",
              "    <div>\n",
              "      <progress value='3219456' class='' max='3214948' style='width:300px; height:20px; vertical-align: middle;'></progress>\n",
              "      100.14% [3219456/3214948 00:00<00:00]\n",
              "    </div>\n",
              "    "
            ]
          },
          "metadata": {}
        }
      ]
    },
    {
      "cell_type": "code",
      "source": [
        ""
      ],
      "metadata": {
        "id": "bFYmFdfbuozS"
      },
      "execution_count": null,
      "outputs": []
    },
    {
      "cell_type": "code",
      "source": [
        "(path/'train').ls(\n",
        ")"
      ],
      "metadata": {
        "colab": {
          "base_uri": "https://localhost:8080/"
        },
        "id": "85wqom8QIjW8",
        "outputId": "71076d7b-633e-46cf-c0e0-d15e9d705aff"
      },
      "execution_count": null,
      "outputs": [
        {
          "output_type": "execute_result",
          "data": {
            "text/plain": [
              "(#2) [Path('/root/.fastai/data/mnist_sample/train/7'),Path('/root/.fastai/data/mnist_sample/train/3')]"
            ]
          },
          "metadata": {},
          "execution_count": 3
        }
      ]
    },
    {
      "cell_type": "code",
      "source": [
        "threes = (path/'train'/'3').ls().sorted()\n",
        "sevens = (path/'train'/'7').ls().sorted()\n"
      ],
      "metadata": {
        "id": "zK-Nr2mhI5cf"
      },
      "execution_count": null,
      "outputs": []
    },
    {
      "cell_type": "code",
      "source": [
        "im3_path=threes[1]\n",
        "im3=Image.open(im3_path)\n",
        "im3"
      ],
      "metadata": {
        "colab": {
          "base_uri": "https://localhost:8080/",
          "height": 45
        },
        "id": "reIBtCIvJGeE",
        "outputId": "ccbbb05a-6dbb-4c92-d07f-41e40c49c61a"
      },
      "execution_count": null,
      "outputs": [
        {
          "output_type": "execute_result",
          "data": {
            "text/plain": [
              "<PIL.PngImagePlugin.PngImageFile image mode=L size=28x28 at 0x7F6306501710>"
            ],
            "image/png": "[encoded data removed]"
          },
          "metadata": {},
          "execution_count": 5
        }
      ]
    },
    {
      "cell_type": "code",
      "source": [
        "array(im3)[4:10,4:10]"
      ],
      "metadata": {
        "colab": {
          "base_uri": "https://localhost:8080/"
        },
        "id": "biwIbduPJXiq",
        "outputId": "a648539a-7640-449e-9814-19e3ced7f915"
      },
      "execution_count": null,
      "outputs": [
        {
          "output_type": "execute_result",
          "data": {
            "text/plain": [
              "array([[  0,   0,   0,   0,   0,   0],\n",
              "       [  0,   0,   0,   0,   0,  29],\n",
              "       [  0,   0,   0,  48, 166, 224],\n",
              "       [  0,  93, 244, 249, 253, 187],\n",
              "       [  0, 107, 253, 253, 230,  48],\n",
              "       [  0,   3,  20,  20,  15,   0]], dtype=uint8)"
            ]
          },
          "metadata": {},
          "execution_count": 6
        }
      ]
    },
    {
      "cell_type": "code",
      "source": [
        "tensor(im3)[4:10,4:10]"
      ],
      "metadata": {
        "colab": {
          "base_uri": "https://localhost:8080/"
        },
        "id": "LeA3G3_TJhb2",
        "outputId": "3ac67bd1-8e4c-4371-8714-2af6ff10776c"
      },
      "execution_count": null,
      "outputs": [
        {
          "output_type": "execute_result",
          "data": {
            "text/plain": [
              "tensor([[  0,   0,   0,   0,   0,   0],\n",
              "        [  0,   0,   0,   0,   0,  29],\n",
              "        [  0,   0,   0,  48, 166, 224],\n",
              "        [  0,  93, 244, 249, 253, 187],\n",
              "        [  0, 107, 253, 253, 230,  48],\n",
              "        [  0,   3,  20,  20,  15,   0]], dtype=torch.uint8)"
            ]
          },
          "metadata": {},
          "execution_count": 7
        }
      ]
    },
    {
      "cell_type": "code",
      "source": [
        "import pandas as pd\n",
        "im3_t = tensor(im3)\n",
        "df=pd.DataFrame(im3_t[4:15,4:22])\n",
        "df.style.set_properties(**{'font_size':'6pt'}).background_gradient('Greys')"
      ],
      "metadata": {
        "colab": {
          "base_uri": "https://localhost:8080/",
          "height": 390
        },
        "id": "8J3BghbhJupJ",
        "outputId": "763be407-5640-471d-f967-7ba3c5af31b1"
      },
      "execution_count": null,
      "outputs": [
        {
          "output_type": "execute_result",
          "data": {
            "text/plain": [
              "<pandas.io.formats.style.Styler at 0x7f63061aae50>"
            ],
            "text/html": [
              "<style type=\"text/css\">\n",
              "#T_9ead8_row0_col0, #T_9ead8_row0_col1, #T_9ead8_row0_col2, #T_9ead8_row0_col3, #T_9ead8_row0_col4, #T_9ead8_row0_col5, #T_9ead8_row0_col6, #T_9ead8_row0_col7, #T_9ead8_row0_col8, #T_9ead8_row0_col9, #T_9ead8_row0_col10, #T_9ead8_row0_col11, #T_9ead8_row0_col12, #T_9ead8_row0_col13, #T_9ead8_row0_col14, #T_9ead8_row0_col15, #T_9ead8_row0_col16, #T_9ead8_row0_col17, #T_9ead8_row1_col0, #T_9ead8_row1_col1, #T_9ead8_row1_col2, #T_9ead8_row1_col3, #T_9ead8_row1_col4, #T_9ead8_row1_col15, #T_9ead8_row1_col16, #T_9ead8_row1_col17, #T_9ead8_row2_col0, #T_9ead8_row2_col1, #T_9ead8_row2_col2, #T_9ead8_row2_col15, #T_9ead8_row2_col16, #T_9ead8_row2_col17, #T_9ead8_row3_col0, #T_9ead8_row3_col15, #T_9ead8_row3_col16, #T_9ead8_row3_col17, #T_9ead8_row4_col0, #T_9ead8_row4_col6, #T_9ead8_row4_col7, #T_9ead8_row4_col8, #T_9ead8_row4_col9, #T_9ead8_row4_col10, #T_9ead8_row4_col15, #T_9ead8_row4_col16, #T_9ead8_row4_col17, #T_9ead8_row5_col0, #T_9ead8_row5_col5, #T_9ead8_row5_col6, #T_9ead8_row5_col7, #T_9ead8_row5_col8, #T_9ead8_row5_col9, #T_9ead8_row5_col15, #T_9ead8_row5_col16, #T_9ead8_row5_col17, #T_9ead8_row6_col0, #T_9ead8_row6_col1, #T_9ead8_row6_col2, #T_9ead8_row6_col3, #T_9ead8_row6_col4, #T_9ead8_row6_col5, #T_9ead8_row6_col6, #T_9ead8_row6_col7, #T_9ead8_row6_col8, #T_9ead8_row6_col9, #T_9ead8_row6_col14, #T_9ead8_row6_col15, #T_9ead8_row6_col16, #T_9ead8_row6_col17, #T_9ead8_row7_col0, #T_9ead8_row7_col1, #T_9ead8_row7_col2, #T_9ead8_row7_col3, #T_9ead8_row7_col4, #T_9ead8_row7_col5, #T_9ead8_row7_col6, #T_9ead8_row7_col13, #T_9ead8_row7_col14, #T_9ead8_row7_col15, #T_9ead8_row7_col16, #T_9ead8_row7_col17, #T_9ead8_row8_col0, #T_9ead8_row8_col1, #T_9ead8_row8_col2, #T_9ead8_row8_col3, #T_9ead8_row8_col4, #T_9ead8_row8_col13, #T_9ead8_row8_col14, #T_9ead8_row8_col15, #T_9ead8_row8_col16, #T_9ead8_row8_col17, #T_9ead8_row9_col0, #T_9ead8_row9_col1, #T_9ead8_row9_col2, #T_9ead8_row9_col3, #T_9ead8_row9_col4, #T_9ead8_row9_col16, #T_9ead8_row9_col17, #T_9ead8_row10_col0, #T_9ead8_row10_col1, #T_9ead8_row10_col2, #T_9ead8_row10_col3, #T_9ead8_row10_col4, #T_9ead8_row10_col5, #T_9ead8_row10_col6, #T_9ead8_row10_col17 {\n",
              "  font_size: 6pt;\n",
              "  background-color: #ffffff;\n",
              "  color: #000000;\n",
              "}\n",
              "#T_9ead8_row1_col5 {\n",
              "  font_size: 6pt;\n",
              "  background-color: #efefef;\n",
              "  color: #000000;\n",
              "}\n",
              "#T_9ead8_row1_col6, #T_9ead8_row1_col13 {\n",
              "  font_size: 6pt;\n",
              "  background-color: #7c7c7c;\n",
              "  color: #f1f1f1;\n",
              "}\n",
              "#T_9ead8_row1_col7 {\n",
              "  font_size: 6pt;\n",
              "  background-color: #4a4a4a;\n",
              "  color: #f1f1f1;\n",
              "}\n",
              "#T_9ead8_row1_col8, #T_9ead8_row1_col9, #T_9ead8_row1_col10, #T_9ead8_row2_col5, #T_9ead8_row2_col6, #T_9ead8_row2_col7, #T_9ead8_row2_col11, #T_9ead8_row2_col12, #T_9ead8_row2_col13, #T_9ead8_row3_col4, #T_9ead8_row3_col12, #T_9ead8_row3_col13, #T_9ead8_row4_col1, #T_9ead8_row4_col2, #T_9ead8_row4_col3, #T_9ead8_row4_col12, #T_9ead8_row4_col13, #T_9ead8_row5_col12, #T_9ead8_row6_col11, #T_9ead8_row9_col11, #T_9ead8_row10_col11, #T_9ead8_row10_col12, #T_9ead8_row10_col13, #T_9ead8_row10_col14, #T_9ead8_row10_col15, #T_9ead8_row10_col16 {\n",
              "  font_size: 6pt;\n",
              "  background-color: #000000;\n",
              "  color: #f1f1f1;\n",
              "}\n",
              "#T_9ead8_row1_col11 {\n",
              "  font_size: 6pt;\n",
              "  background-color: #606060;\n",
              "  color: #f1f1f1;\n",
              "}\n",
              "#T_9ead8_row1_col12 {\n",
              "  font_size: 6pt;\n",
              "  background-color: #4d4d4d;\n",
              "  color: #f1f1f1;\n",
              "}\n",
              "#T_9ead8_row1_col14 {\n",
              "  font_size: 6pt;\n",
              "  background-color: #bbbbbb;\n",
              "  color: #000000;\n",
              "}\n",
              "#T_9ead8_row2_col3 {\n",
              "  font_size: 6pt;\n",
              "  background-color: #e4e4e4;\n",
              "  color: #000000;\n",
              "}\n",
              "#T_9ead8_row2_col4, #T_9ead8_row8_col6 {\n",
              "  font_size: 6pt;\n",
              "  background-color: #6b6b6b;\n",
              "  color: #f1f1f1;\n",
              "}\n",
              "#T_9ead8_row2_col8, #T_9ead8_row2_col14, #T_9ead8_row3_col14 {\n",
              "  font_size: 6pt;\n",
              "  background-color: #171717;\n",
              "  color: #f1f1f1;\n",
              "}\n",
              "#T_9ead8_row2_col9, #T_9ead8_row3_col11 {\n",
              "  font_size: 6pt;\n",
              "  background-color: #4b4b4b;\n",
              "  color: #f1f1f1;\n",
              "}\n",
              "#T_9ead8_row2_col10, #T_9ead8_row7_col10, #T_9ead8_row8_col8, #T_9ead8_row8_col10, #T_9ead8_row9_col8, #T_9ead8_row9_col10 {\n",
              "  font_size: 6pt;\n",
              "  background-color: #010101;\n",
              "  color: #f1f1f1;\n",
              "}\n",
              "#T_9ead8_row3_col1 {\n",
              "  font_size: 6pt;\n",
              "  background-color: #272727;\n",
              "  color: #f1f1f1;\n",
              "}\n",
              "#T_9ead8_row3_col2 {\n",
              "  font_size: 6pt;\n",
              "  background-color: #0a0a0a;\n",
              "  color: #f1f1f1;\n",
              "}\n",
              "#T_9ead8_row3_col3 {\n",
              "  font_size: 6pt;\n",
              "  background-color: #050505;\n",
              "  color: #f1f1f1;\n",
              "}\n",
              "#T_9ead8_row3_col5 {\n",
              "  font_size: 6pt;\n",
              "  background-color: #333333;\n",
              "  color: #f1f1f1;\n",
              "}\n",
              "#T_9ead8_row3_col6 {\n",
              "  font_size: 6pt;\n",
              "  background-color: #e6e6e6;\n",
              "  color: #000000;\n",
              "}\n",
              "#T_9ead8_row3_col7, #T_9ead8_row3_col10 {\n",
              "  font_size: 6pt;\n",
              "  background-color: #fafafa;\n",
              "  color: #000000;\n",
              "}\n",
              "#T_9ead8_row3_col8 {\n",
              "  font_size: 6pt;\n",
              "  background-color: #fbfbfb;\n",
              "  color: #000000;\n",
              "}\n",
              "#T_9ead8_row3_col9 {\n",
              "  font_size: 6pt;\n",
              "  background-color: #fdfdfd;\n",
              "  color: #000000;\n",
              "}\n",
              "#T_9ead8_row4_col4 {\n",
              "  font_size: 6pt;\n",
              "  background-color: #1b1b1b;\n",
              "  color: #f1f1f1;\n",
              "}\n",
              "#T_9ead8_row4_col5 {\n",
              "  font_size: 6pt;\n",
              "  background-color: #e0e0e0;\n",
              "  color: #000000;\n",
              "}\n",
              "#T_9ead8_row4_col11 {\n",
              "  font_size: 6pt;\n",
              "  background-color: #4e4e4e;\n",
              "  color: #f1f1f1;\n",
              "}\n",
              "#T_9ead8_row4_col14 {\n",
              "  font_size: 6pt;\n",
              "  background-color: #767676;\n",
              "  color: #f1f1f1;\n",
              "}\n",
              "#T_9ead8_row5_col1 {\n",
              "  font_size: 6pt;\n",
              "  background-color: #fcfcfc;\n",
              "  color: #000000;\n",
              "}\n",
              "#T_9ead8_row5_col2, #T_9ead8_row5_col3 {\n",
              "  font_size: 6pt;\n",
              "  background-color: #f6f6f6;\n",
              "  color: #000000;\n",
              "}\n",
              "#T_9ead8_row5_col4, #T_9ead8_row7_col7 {\n",
              "  font_size: 6pt;\n",
              "  background-color: #f8f8f8;\n",
              "  color: #000000;\n",
              "}\n",
              "#T_9ead8_row5_col10, #T_9ead8_row10_col7 {\n",
              "  font_size: 6pt;\n",
              "  background-color: #e8e8e8;\n",
              "  color: #000000;\n",
              "}\n",
              "#T_9ead8_row5_col11 {\n",
              "  font_size: 6pt;\n",
              "  background-color: #222222;\n",
              "  color: #f1f1f1;\n",
              "}\n",
              "#T_9ead8_row5_col13, #T_9ead8_row6_col12 {\n",
              "  font_size: 6pt;\n",
              "  background-color: #090909;\n",
              "  color: #f1f1f1;\n",
              "}\n",
              "#T_9ead8_row5_col14 {\n",
              "  font_size: 6pt;\n",
              "  background-color: #d0d0d0;\n",
              "  color: #000000;\n",
              "}\n",
              "#T_9ead8_row6_col10, #T_9ead8_row7_col11, #T_9ead8_row9_col6 {\n",
              "  font_size: 6pt;\n",
              "  background-color: #060606;\n",
              "  color: #f1f1f1;\n",
              "}\n",
              "#T_9ead8_row6_col13 {\n",
              "  font_size: 6pt;\n",
              "  background-color: #979797;\n",
              "  color: #f1f1f1;\n",
              "}\n",
              "#T_9ead8_row7_col8 {\n",
              "  font_size: 6pt;\n",
              "  background-color: #b6b6b6;\n",
              "  color: #000000;\n",
              "}\n",
              "#T_9ead8_row7_col9 {\n",
              "  font_size: 6pt;\n",
              "  background-color: #252525;\n",
              "  color: #f1f1f1;\n",
              "}\n",
              "#T_9ead8_row7_col12 {\n",
              "  font_size: 6pt;\n",
              "  background-color: #999999;\n",
              "  color: #f1f1f1;\n",
              "}\n",
              "#T_9ead8_row8_col5 {\n",
              "  font_size: 6pt;\n",
              "  background-color: #f9f9f9;\n",
              "  color: #000000;\n",
              "}\n",
              "#T_9ead8_row8_col7 {\n",
              "  font_size: 6pt;\n",
              "  background-color: #101010;\n",
              "  color: #f1f1f1;\n",
              "}\n",
              "#T_9ead8_row8_col9, #T_9ead8_row9_col9 {\n",
              "  font_size: 6pt;\n",
              "  background-color: #020202;\n",
              "  color: #f1f1f1;\n",
              "}\n",
              "#T_9ead8_row8_col11 {\n",
              "  font_size: 6pt;\n",
              "  background-color: #545454;\n",
              "  color: #f1f1f1;\n",
              "}\n",
              "#T_9ead8_row8_col12 {\n",
              "  font_size: 6pt;\n",
              "  background-color: #f1f1f1;\n",
              "  color: #000000;\n",
              "}\n",
              "#T_9ead8_row9_col5 {\n",
              "  font_size: 6pt;\n",
              "  background-color: #f7f7f7;\n",
              "  color: #000000;\n",
              "}\n",
              "#T_9ead8_row9_col7 {\n",
              "  font_size: 6pt;\n",
              "  background-color: #030303;\n",
              "  color: #f1f1f1;\n",
              "}\n",
              "#T_9ead8_row9_col12 {\n",
              "  font_size: 6pt;\n",
              "  background-color: #181818;\n",
              "  color: #f1f1f1;\n",
              "}\n",
              "#T_9ead8_row9_col13 {\n",
              "  font_size: 6pt;\n",
              "  background-color: #303030;\n",
              "  color: #f1f1f1;\n",
              "}\n",
              "#T_9ead8_row9_col14 {\n",
              "  font_size: 6pt;\n",
              "  background-color: #a9a9a9;\n",
              "  color: #f1f1f1;\n",
              "}\n",
              "#T_9ead8_row9_col15 {\n",
              "  font_size: 6pt;\n",
              "  background-color: #fefefe;\n",
              "  color: #000000;\n",
              "}\n",
              "#T_9ead8_row10_col8, #T_9ead8_row10_col9 {\n",
              "  font_size: 6pt;\n",
              "  background-color: #bababa;\n",
              "  color: #000000;\n",
              "}\n",
              "#T_9ead8_row10_col10 {\n",
              "  font_size: 6pt;\n",
              "  background-color: #393939;\n",
              "  color: #f1f1f1;\n",
              "}\n",
              "</style>\n",
              "<table id=\"T_9ead8_\" class=\"dataframe\">\n",
              "  <thead>\n",
              "    <tr>\n",
              "      <th class=\"blank level0\" >&nbsp;</th>\n",
              "      <th class=\"col_heading level0 col0\" >0</th>\n",
              "      <th class=\"col_heading level0 col1\" >1</th>\n",
              "      <th class=\"col_heading level0 col2\" >2</th>\n",
              "      <th class=\"col_heading level0 col3\" >3</th>\n",
              "      <th class=\"col_heading level0 col4\" >4</th>\n",
              "      <th class=\"col_heading level0 col5\" >5</th>\n",
              "      <th class=\"col_heading level0 col6\" >6</th>\n",
              "      <th class=\"col_heading level0 col7\" >7</th>\n",
              "      <th class=\"col_heading level0 col8\" >8</th>\n",
              "      <th class=\"col_heading level0 col9\" >9</th>\n",
              "      <th class=\"col_heading level0 col10\" >10</th>\n",
              "      <th class=\"col_heading level0 col11\" >11</th>\n",
              "      <th class=\"col_heading level0 col12\" >12</th>\n",
              "      <th class=\"col_heading level0 col13\" >13</th>\n",
              "      <th class=\"col_heading level0 col14\" >14</th>\n",
              "      <th class=\"col_heading level0 col15\" >15</th>\n",
              "      <th class=\"col_heading level0 col16\" >16</th>\n",
              "      <th class=\"col_heading level0 col17\" >17</th>\n",
              "    </tr>\n",
              "  </thead>\n",
              "  <tbody>\n",
              "    <tr>\n",
              "      <th id=\"T_9ead8_level0_row0\" class=\"row_heading level0 row0\" >0</th>\n",
              "      <td id=\"T_9ead8_row0_col0\" class=\"data row0 col0\" >0</td>\n",
              "      <td id=\"T_9ead8_row0_col1\" class=\"data row0 col1\" >0</td>\n",
              "      <td id=\"T_9ead8_row0_col2\" class=\"data row0 col2\" >0</td>\n",
              "      <td id=\"T_9ead8_row0_col3\" class=\"data row0 col3\" >0</td>\n",
              "      <td id=\"T_9ead8_row0_col4\" class=\"data row0 col4\" >0</td>\n",
              "      <td id=\"T_9ead8_row0_col5\" class=\"data row0 col5\" >0</td>\n",
              "      <td id=\"T_9ead8_row0_col6\" class=\"data row0 col6\" >0</td>\n",
              "      <td id=\"T_9ead8_row0_col7\" class=\"data row0 col7\" >0</td>\n",
              "      <td id=\"T_9ead8_row0_col8\" class=\"data row0 col8\" >0</td>\n",
              "      <td id=\"T_9ead8_row0_col9\" class=\"data row0 col9\" >0</td>\n",
              "      <td id=\"T_9ead8_row0_col10\" class=\"data row0 col10\" >0</td>\n",
              "      <td id=\"T_9ead8_row0_col11\" class=\"data row0 col11\" >0</td>\n",
              "      <td id=\"T_9ead8_row0_col12\" class=\"data row0 col12\" >0</td>\n",
              "      <td id=\"T_9ead8_row0_col13\" class=\"data row0 col13\" >0</td>\n",
              "      <td id=\"T_9ead8_row0_col14\" class=\"data row0 col14\" >0</td>\n",
              "      <td id=\"T_9ead8_row0_col15\" class=\"data row0 col15\" >0</td>\n",
              "      <td id=\"T_9ead8_row0_col16\" class=\"data row0 col16\" >0</td>\n",
              "      <td id=\"T_9ead8_row0_col17\" class=\"data row0 col17\" >0</td>\n",
              "    </tr>\n",
              "    <tr>\n",
              "      <th id=\"T_9ead8_level0_row1\" class=\"row_heading level0 row1\" >1</th>\n",
              "      <td id=\"T_9ead8_row1_col0\" class=\"data row1 col0\" >0</td>\n",
              "      <td id=\"T_9ead8_row1_col1\" class=\"data row1 col1\" >0</td>\n",
              "      <td id=\"T_9ead8_row1_col2\" class=\"data row1 col2\" >0</td>\n",
              "      <td id=\"T_9ead8_row1_col3\" class=\"data row1 col3\" >0</td>\n",
              "      <td id=\"T_9ead8_row1_col4\" class=\"data row1 col4\" >0</td>\n",
              "      <td id=\"T_9ead8_row1_col5\" class=\"data row1 col5\" >29</td>\n",
              "      <td id=\"T_9ead8_row1_col6\" class=\"data row1 col6\" >150</td>\n",
              "      <td id=\"T_9ead8_row1_col7\" class=\"data row1 col7\" >195</td>\n",
              "      <td id=\"T_9ead8_row1_col8\" class=\"data row1 col8\" >254</td>\n",
              "      <td id=\"T_9ead8_row1_col9\" class=\"data row1 col9\" >255</td>\n",
              "      <td id=\"T_9ead8_row1_col10\" class=\"data row1 col10\" >254</td>\n",
              "      <td id=\"T_9ead8_row1_col11\" class=\"data row1 col11\" >176</td>\n",
              "      <td id=\"T_9ead8_row1_col12\" class=\"data row1 col12\" >193</td>\n",
              "      <td id=\"T_9ead8_row1_col13\" class=\"data row1 col13\" >150</td>\n",
              "      <td id=\"T_9ead8_row1_col14\" class=\"data row1 col14\" >96</td>\n",
              "      <td id=\"T_9ead8_row1_col15\" class=\"data row1 col15\" >0</td>\n",
              "      <td id=\"T_9ead8_row1_col16\" class=\"data row1 col16\" >0</td>\n",
              "      <td id=\"T_9ead8_row1_col17\" class=\"data row1 col17\" >0</td>\n",
              "    </tr>\n",
              "    <tr>\n",
              "      <th id=\"T_9ead8_level0_row2\" class=\"row_heading level0 row2\" >2</th>\n",
              "      <td id=\"T_9ead8_row2_col0\" class=\"data row2 col0\" >0</td>\n",
              "      <td id=\"T_9ead8_row2_col1\" class=\"data row2 col1\" >0</td>\n",
              "      <td id=\"T_9ead8_row2_col2\" class=\"data row2 col2\" >0</td>\n",
              "      <td id=\"T_9ead8_row2_col3\" class=\"data row2 col3\" >48</td>\n",
              "      <td id=\"T_9ead8_row2_col4\" class=\"data row2 col4\" >166</td>\n",
              "      <td id=\"T_9ead8_row2_col5\" class=\"data row2 col5\" >224</td>\n",
              "      <td id=\"T_9ead8_row2_col6\" class=\"data row2 col6\" >253</td>\n",
              "      <td id=\"T_9ead8_row2_col7\" class=\"data row2 col7\" >253</td>\n",
              "      <td id=\"T_9ead8_row2_col8\" class=\"data row2 col8\" >234</td>\n",
              "      <td id=\"T_9ead8_row2_col9\" class=\"data row2 col9\" >196</td>\n",
              "      <td id=\"T_9ead8_row2_col10\" class=\"data row2 col10\" >253</td>\n",
              "      <td id=\"T_9ead8_row2_col11\" class=\"data row2 col11\" >253</td>\n",
              "      <td id=\"T_9ead8_row2_col12\" class=\"data row2 col12\" >253</td>\n",
              "      <td id=\"T_9ead8_row2_col13\" class=\"data row2 col13\" >253</td>\n",
              "      <td id=\"T_9ead8_row2_col14\" class=\"data row2 col14\" >233</td>\n",
              "      <td id=\"T_9ead8_row2_col15\" class=\"data row2 col15\" >0</td>\n",
              "      <td id=\"T_9ead8_row2_col16\" class=\"data row2 col16\" >0</td>\n",
              "      <td id=\"T_9ead8_row2_col17\" class=\"data row2 col17\" >0</td>\n",
              "    </tr>\n",
              "    <tr>\n",
              "      <th id=\"T_9ead8_level0_row3\" class=\"row_heading level0 row3\" >3</th>\n",
              "      <td id=\"T_9ead8_row3_col0\" class=\"data row3 col0\" >0</td>\n",
              "      <td id=\"T_9ead8_row3_col1\" class=\"data row3 col1\" >93</td>\n",
              "      <td id=\"T_9ead8_row3_col2\" class=\"data row3 col2\" >244</td>\n",
              "      <td id=\"T_9ead8_row3_col3\" class=\"data row3 col3\" >249</td>\n",
              "      <td id=\"T_9ead8_row3_col4\" class=\"data row3 col4\" >253</td>\n",
              "      <td id=\"T_9ead8_row3_col5\" class=\"data row3 col5\" >187</td>\n",
              "      <td id=\"T_9ead8_row3_col6\" class=\"data row3 col6\" >46</td>\n",
              "      <td id=\"T_9ead8_row3_col7\" class=\"data row3 col7\" >10</td>\n",
              "      <td id=\"T_9ead8_row3_col8\" class=\"data row3 col8\" >8</td>\n",
              "      <td id=\"T_9ead8_row3_col9\" class=\"data row3 col9\" >4</td>\n",
              "      <td id=\"T_9ead8_row3_col10\" class=\"data row3 col10\" >10</td>\n",
              "      <td id=\"T_9ead8_row3_col11\" class=\"data row3 col11\" >194</td>\n",
              "      <td id=\"T_9ead8_row3_col12\" class=\"data row3 col12\" >253</td>\n",
              "      <td id=\"T_9ead8_row3_col13\" class=\"data row3 col13\" >253</td>\n",
              "      <td id=\"T_9ead8_row3_col14\" class=\"data row3 col14\" >233</td>\n",
              "      <td id=\"T_9ead8_row3_col15\" class=\"data row3 col15\" >0</td>\n",
              "      <td id=\"T_9ead8_row3_col16\" class=\"data row3 col16\" >0</td>\n",
              "      <td id=\"T_9ead8_row3_col17\" class=\"data row3 col17\" >0</td>\n",
              "    </tr>\n",
              "    <tr>\n",
              "      <th id=\"T_9ead8_level0_row4\" class=\"row_heading level0 row4\" >4</th>\n",
              "      <td id=\"T_9ead8_row4_col0\" class=\"data row4 col0\" >0</td>\n",
              "      <td id=\"T_9ead8_row4_col1\" class=\"data row4 col1\" >107</td>\n",
              "      <td id=\"T_9ead8_row4_col2\" class=\"data row4 col2\" >253</td>\n",
              "      <td id=\"T_9ead8_row4_col3\" class=\"data row4 col3\" >253</td>\n",
              "      <td id=\"T_9ead8_row4_col4\" class=\"data row4 col4\" >230</td>\n",
              "      <td id=\"T_9ead8_row4_col5\" class=\"data row4 col5\" >48</td>\n",
              "      <td id=\"T_9ead8_row4_col6\" class=\"data row4 col6\" >0</td>\n",
              "      <td id=\"T_9ead8_row4_col7\" class=\"data row4 col7\" >0</td>\n",
              "      <td id=\"T_9ead8_row4_col8\" class=\"data row4 col8\" >0</td>\n",
              "      <td id=\"T_9ead8_row4_col9\" class=\"data row4 col9\" >0</td>\n",
              "      <td id=\"T_9ead8_row4_col10\" class=\"data row4 col10\" >0</td>\n",
              "      <td id=\"T_9ead8_row4_col11\" class=\"data row4 col11\" >192</td>\n",
              "      <td id=\"T_9ead8_row4_col12\" class=\"data row4 col12\" >253</td>\n",
              "      <td id=\"T_9ead8_row4_col13\" class=\"data row4 col13\" >253</td>\n",
              "      <td id=\"T_9ead8_row4_col14\" class=\"data row4 col14\" >156</td>\n",
              "      <td id=\"T_9ead8_row4_col15\" class=\"data row4 col15\" >0</td>\n",
              "      <td id=\"T_9ead8_row4_col16\" class=\"data row4 col16\" >0</td>\n",
              "      <td id=\"T_9ead8_row4_col17\" class=\"data row4 col17\" >0</td>\n",
              "    </tr>\n",
              "    <tr>\n",
              "      <th id=\"T_9ead8_level0_row5\" class=\"row_heading level0 row5\" >5</th>\n",
              "      <td id=\"T_9ead8_row5_col0\" class=\"data row5 col0\" >0</td>\n",
              "      <td id=\"T_9ead8_row5_col1\" class=\"data row5 col1\" >3</td>\n",
              "      <td id=\"T_9ead8_row5_col2\" class=\"data row5 col2\" >20</td>\n",
              "      <td id=\"T_9ead8_row5_col3\" class=\"data row5 col3\" >20</td>\n",
              "      <td id=\"T_9ead8_row5_col4\" class=\"data row5 col4\" >15</td>\n",
              "      <td id=\"T_9ead8_row5_col5\" class=\"data row5 col5\" >0</td>\n",
              "      <td id=\"T_9ead8_row5_col6\" class=\"data row5 col6\" >0</td>\n",
              "      <td id=\"T_9ead8_row5_col7\" class=\"data row5 col7\" >0</td>\n",
              "      <td id=\"T_9ead8_row5_col8\" class=\"data row5 col8\" >0</td>\n",
              "      <td id=\"T_9ead8_row5_col9\" class=\"data row5 col9\" >0</td>\n",
              "      <td id=\"T_9ead8_row5_col10\" class=\"data row5 col10\" >43</td>\n",
              "      <td id=\"T_9ead8_row5_col11\" class=\"data row5 col11\" >224</td>\n",
              "      <td id=\"T_9ead8_row5_col12\" class=\"data row5 col12\" >253</td>\n",
              "      <td id=\"T_9ead8_row5_col13\" class=\"data row5 col13\" >245</td>\n",
              "      <td id=\"T_9ead8_row5_col14\" class=\"data row5 col14\" >74</td>\n",
              "      <td id=\"T_9ead8_row5_col15\" class=\"data row5 col15\" >0</td>\n",
              "      <td id=\"T_9ead8_row5_col16\" class=\"data row5 col16\" >0</td>\n",
              "      <td id=\"T_9ead8_row5_col17\" class=\"data row5 col17\" >0</td>\n",
              "    </tr>\n",
              "    <tr>\n",
              "      <th id=\"T_9ead8_level0_row6\" class=\"row_heading level0 row6\" >6</th>\n",
              "      <td id=\"T_9ead8_row6_col0\" class=\"data row6 col0\" >0</td>\n",
              "      <td id=\"T_9ead8_row6_col1\" class=\"data row6 col1\" >0</td>\n",
              "      <td id=\"T_9ead8_row6_col2\" class=\"data row6 col2\" >0</td>\n",
              "      <td id=\"T_9ead8_row6_col3\" class=\"data row6 col3\" >0</td>\n",
              "      <td id=\"T_9ead8_row6_col4\" class=\"data row6 col4\" >0</td>\n",
              "      <td id=\"T_9ead8_row6_col5\" class=\"data row6 col5\" >0</td>\n",
              "      <td id=\"T_9ead8_row6_col6\" class=\"data row6 col6\" >0</td>\n",
              "      <td id=\"T_9ead8_row6_col7\" class=\"data row6 col7\" >0</td>\n",
              "      <td id=\"T_9ead8_row6_col8\" class=\"data row6 col8\" >0</td>\n",
              "      <td id=\"T_9ead8_row6_col9\" class=\"data row6 col9\" >0</td>\n",
              "      <td id=\"T_9ead8_row6_col10\" class=\"data row6 col10\" >249</td>\n",
              "      <td id=\"T_9ead8_row6_col11\" class=\"data row6 col11\" >253</td>\n",
              "      <td id=\"T_9ead8_row6_col12\" class=\"data row6 col12\" >245</td>\n",
              "      <td id=\"T_9ead8_row6_col13\" class=\"data row6 col13\" >126</td>\n",
              "      <td id=\"T_9ead8_row6_col14\" class=\"data row6 col14\" >0</td>\n",
              "      <td id=\"T_9ead8_row6_col15\" class=\"data row6 col15\" >0</td>\n",
              "      <td id=\"T_9ead8_row6_col16\" class=\"data row6 col16\" >0</td>\n",
              "      <td id=\"T_9ead8_row6_col17\" class=\"data row6 col17\" >0</td>\n",
              "    </tr>\n",
              "    <tr>\n",
              "      <th id=\"T_9ead8_level0_row7\" class=\"row_heading level0 row7\" >7</th>\n",
              "      <td id=\"T_9ead8_row7_col0\" class=\"data row7 col0\" >0</td>\n",
              "      <td id=\"T_9ead8_row7_col1\" class=\"data row7 col1\" >0</td>\n",
              "      <td id=\"T_9ead8_row7_col2\" class=\"data row7 col2\" >0</td>\n",
              "      <td id=\"T_9ead8_row7_col3\" class=\"data row7 col3\" >0</td>\n",
              "      <td id=\"T_9ead8_row7_col4\" class=\"data row7 col4\" >0</td>\n",
              "      <td id=\"T_9ead8_row7_col5\" class=\"data row7 col5\" >0</td>\n",
              "      <td id=\"T_9ead8_row7_col6\" class=\"data row7 col6\" >0</td>\n",
              "      <td id=\"T_9ead8_row7_col7\" class=\"data row7 col7\" >14</td>\n",
              "      <td id=\"T_9ead8_row7_col8\" class=\"data row7 col8\" >101</td>\n",
              "      <td id=\"T_9ead8_row7_col9\" class=\"data row7 col9\" >223</td>\n",
              "      <td id=\"T_9ead8_row7_col10\" class=\"data row7 col10\" >253</td>\n",
              "      <td id=\"T_9ead8_row7_col11\" class=\"data row7 col11\" >248</td>\n",
              "      <td id=\"T_9ead8_row7_col12\" class=\"data row7 col12\" >124</td>\n",
              "      <td id=\"T_9ead8_row7_col13\" class=\"data row7 col13\" >0</td>\n",
              "      <td id=\"T_9ead8_row7_col14\" class=\"data row7 col14\" >0</td>\n",
              "      <td id=\"T_9ead8_row7_col15\" class=\"data row7 col15\" >0</td>\n",
              "      <td id=\"T_9ead8_row7_col16\" class=\"data row7 col16\" >0</td>\n",
              "      <td id=\"T_9ead8_row7_col17\" class=\"data row7 col17\" >0</td>\n",
              "    </tr>\n",
              "    <tr>\n",
              "      <th id=\"T_9ead8_level0_row8\" class=\"row_heading level0 row8\" >8</th>\n",
              "      <td id=\"T_9ead8_row8_col0\" class=\"data row8 col0\" >0</td>\n",
              "      <td id=\"T_9ead8_row8_col1\" class=\"data row8 col1\" >0</td>\n",
              "      <td id=\"T_9ead8_row8_col2\" class=\"data row8 col2\" >0</td>\n",
              "      <td id=\"T_9ead8_row8_col3\" class=\"data row8 col3\" >0</td>\n",
              "      <td id=\"T_9ead8_row8_col4\" class=\"data row8 col4\" >0</td>\n",
              "      <td id=\"T_9ead8_row8_col5\" class=\"data row8 col5\" >11</td>\n",
              "      <td id=\"T_9ead8_row8_col6\" class=\"data row8 col6\" >166</td>\n",
              "      <td id=\"T_9ead8_row8_col7\" class=\"data row8 col7\" >239</td>\n",
              "      <td id=\"T_9ead8_row8_col8\" class=\"data row8 col8\" >253</td>\n",
              "      <td id=\"T_9ead8_row8_col9\" class=\"data row8 col9\" >253</td>\n",
              "      <td id=\"T_9ead8_row8_col10\" class=\"data row8 col10\" >253</td>\n",
              "      <td id=\"T_9ead8_row8_col11\" class=\"data row8 col11\" >187</td>\n",
              "      <td id=\"T_9ead8_row8_col12\" class=\"data row8 col12\" >30</td>\n",
              "      <td id=\"T_9ead8_row8_col13\" class=\"data row8 col13\" >0</td>\n",
              "      <td id=\"T_9ead8_row8_col14\" class=\"data row8 col14\" >0</td>\n",
              "      <td id=\"T_9ead8_row8_col15\" class=\"data row8 col15\" >0</td>\n",
              "      <td id=\"T_9ead8_row8_col16\" class=\"data row8 col16\" >0</td>\n",
              "      <td id=\"T_9ead8_row8_col17\" class=\"data row8 col17\" >0</td>\n",
              "    </tr>\n",
              "    <tr>\n",
              "      <th id=\"T_9ead8_level0_row9\" class=\"row_heading level0 row9\" >9</th>\n",
              "      <td id=\"T_9ead8_row9_col0\" class=\"data row9 col0\" >0</td>\n",
              "      <td id=\"T_9ead8_row9_col1\" class=\"data row9 col1\" >0</td>\n",
              "      <td id=\"T_9ead8_row9_col2\" class=\"data row9 col2\" >0</td>\n",
              "      <td id=\"T_9ead8_row9_col3\" class=\"data row9 col3\" >0</td>\n",
              "      <td id=\"T_9ead8_row9_col4\" class=\"data row9 col4\" >0</td>\n",
              "      <td id=\"T_9ead8_row9_col5\" class=\"data row9 col5\" >16</td>\n",
              "      <td id=\"T_9ead8_row9_col6\" class=\"data row9 col6\" >248</td>\n",
              "      <td id=\"T_9ead8_row9_col7\" class=\"data row9 col7\" >250</td>\n",
              "      <td id=\"T_9ead8_row9_col8\" class=\"data row9 col8\" >253</td>\n",
              "      <td id=\"T_9ead8_row9_col9\" class=\"data row9 col9\" >253</td>\n",
              "      <td id=\"T_9ead8_row9_col10\" class=\"data row9 col10\" >253</td>\n",
              "      <td id=\"T_9ead8_row9_col11\" class=\"data row9 col11\" >253</td>\n",
              "      <td id=\"T_9ead8_row9_col12\" class=\"data row9 col12\" >232</td>\n",
              "      <td id=\"T_9ead8_row9_col13\" class=\"data row9 col13\" >213</td>\n",
              "      <td id=\"T_9ead8_row9_col14\" class=\"data row9 col14\" >111</td>\n",
              "      <td id=\"T_9ead8_row9_col15\" class=\"data row9 col15\" >2</td>\n",
              "      <td id=\"T_9ead8_row9_col16\" class=\"data row9 col16\" >0</td>\n",
              "      <td id=\"T_9ead8_row9_col17\" class=\"data row9 col17\" >0</td>\n",
              "    </tr>\n",
              "    <tr>\n",
              "      <th id=\"T_9ead8_level0_row10\" class=\"row_heading level0 row10\" >10</th>\n",
              "      <td id=\"T_9ead8_row10_col0\" class=\"data row10 col0\" >0</td>\n",
              "      <td id=\"T_9ead8_row10_col1\" class=\"data row10 col1\" >0</td>\n",
              "      <td id=\"T_9ead8_row10_col2\" class=\"data row10 col2\" >0</td>\n",
              "      <td id=\"T_9ead8_row10_col3\" class=\"data row10 col3\" >0</td>\n",
              "      <td id=\"T_9ead8_row10_col4\" class=\"data row10 col4\" >0</td>\n",
              "      <td id=\"T_9ead8_row10_col5\" class=\"data row10 col5\" >0</td>\n",
              "      <td id=\"T_9ead8_row10_col6\" class=\"data row10 col6\" >0</td>\n",
              "      <td id=\"T_9ead8_row10_col7\" class=\"data row10 col7\" >43</td>\n",
              "      <td id=\"T_9ead8_row10_col8\" class=\"data row10 col8\" >98</td>\n",
              "      <td id=\"T_9ead8_row10_col9\" class=\"data row10 col9\" >98</td>\n",
              "      <td id=\"T_9ead8_row10_col10\" class=\"data row10 col10\" >208</td>\n",
              "      <td id=\"T_9ead8_row10_col11\" class=\"data row10 col11\" >253</td>\n",
              "      <td id=\"T_9ead8_row10_col12\" class=\"data row10 col12\" >253</td>\n",
              "      <td id=\"T_9ead8_row10_col13\" class=\"data row10 col13\" >253</td>\n",
              "      <td id=\"T_9ead8_row10_col14\" class=\"data row10 col14\" >253</td>\n",
              "      <td id=\"T_9ead8_row10_col15\" class=\"data row10 col15\" >187</td>\n",
              "      <td id=\"T_9ead8_row10_col16\" class=\"data row10 col16\" >22</td>\n",
              "      <td id=\"T_9ead8_row10_col17\" class=\"data row10 col17\" >0</td>\n",
              "    </tr>\n",
              "  </tbody>\n",
              "</table>\n"
            ]
          },
          "metadata": {},
          "execution_count": 8
        }
      ]
    },
    {
      "cell_type": "markdown",
      "source": [
        "Firest try: pixel similarity"
      ],
      "metadata": {
        "id": "_h3xc0QMusJ6"
      }
    },
    {
      "cell_type": "code",
      "source": [
        "seven_tensors = [tensor(Image.open(o)) for o in sevens]\n",
        "three_tensors = [tensor(Image.open(o)) for o in threes]\n",
        "len(three_tensors), len(seven_tensors)"
      ],
      "metadata": {
        "colab": {
          "base_uri": "https://localhost:8080/"
        },
        "id": "qUkHpx_6Lf_f",
        "outputId": "1d7be2f1-9814-42f8-d0f1-99fef49eed1d"
      },
      "execution_count": null,
      "outputs": [
        {
          "output_type": "execute_result",
          "data": {
            "text/plain": [
              "(6131, 6265)"
            ]
          },
          "metadata": {},
          "execution_count": 9
        }
      ]
    },
    {
      "cell_type": "code",
      "source": [
        "show_image(three_tensors[1])"
      ],
      "metadata": {
        "colab": {
          "base_uri": "https://localhost:8080/",
          "height": 102
        },
        "id": "HJGnL0koML8x",
        "outputId": "c6759835-23db-4101-869c-573f2f487330"
      },
      "execution_count": null,
      "outputs": [
        {
          "output_type": "execute_result",
          "data": {
            "text/plain": [
              "<matplotlib.axes._subplots.AxesSubplot at 0x7f63062370d0>"
            ]
          },
          "metadata": {},
          "execution_count": 10
        },
        {
          "output_type": "display_data",
          "data": {
            "text/plain": [
              "<Figure size 72x72 with 1 Axes>"
            ],
            "image/png": "[encoded data removed]"
          },
          "metadata": {
            "needs_background": "light"
          }
        }
      ]
    },
    {
      "cell_type": "code",
      "source": [
        "stacked_sevens = torch.stack(seven_tensors).float()/255\n",
        "stacked_threes = torch.stack(three_tensors).float()/255\n",
        "stacked_threes.shape"
      ],
      "metadata": {
        "colab": {
          "base_uri": "https://localhost:8080/"
        },
        "id": "gDyGEMfpMdRs",
        "outputId": "2adab933-6dca-4b4e-cc54-a6f690303051"
      },
      "execution_count": null,
      "outputs": [
        {
          "output_type": "execute_result",
          "data": {
            "text/plain": [
              "torch.Size([6131, 28, 28])"
            ]
          },
          "metadata": {},
          "execution_count": 11
        }
      ]
    },
    {
      "cell_type": "code",
      "source": [
        "stacked_threes.ndim"
      ],
      "metadata": {
        "colab": {
          "base_uri": "https://localhost:8080/"
        },
        "id": "64DTGX9ZNBMF",
        "outputId": "6cb68769-d42c-4de0-8dd8-803b7ee14bbe"
      },
      "execution_count": null,
      "outputs": [
        {
          "output_type": "execute_result",
          "data": {
            "text/plain": [
              "3"
            ]
          },
          "metadata": {},
          "execution_count": 12
        }
      ]
    },
    {
      "cell_type": "code",
      "source": [
        "mean3 = stacked_threes.mean(0)\n",
        "show_image(mean3)"
      ],
      "metadata": {
        "colab": {
          "base_uri": "https://localhost:8080/",
          "height": 102
        },
        "id": "s63BIkgPNLf9",
        "outputId": "c3098db6-4760-43b8-8b34-b198054d6b0e"
      },
      "execution_count": null,
      "outputs": [
        {
          "output_type": "execute_result",
          "data": {
            "text/plain": [
              "<matplotlib.axes._subplots.AxesSubplot at 0x7f63059d00d0>"
            ]
          },
          "metadata": {},
          "execution_count": 13
        },
        {
          "output_type": "display_data",
          "data": {
            "text/plain": [
              "<Figure size 72x72 with 1 Axes>"
            ],
            "image/png": "[encoded data removed]"
          },
          "metadata": {
            "needs_background": "light"
          }
        }
      ]
    },
    {
      "cell_type": "code",
      "source": [
        "mean7 = stacked_sevens.mean(0)\n",
        "show_image(mean7)"
      ],
      "metadata": {
        "colab": {
          "base_uri": "https://localhost:8080/",
          "height": 102
        },
        "id": "P4cJaoiRNVM4",
        "outputId": "a6b057f6-e25e-41f0-cc16-bccae55a88a6"
      },
      "execution_count": null,
      "outputs": [
        {
          "output_type": "execute_result",
          "data": {
            "text/plain": [
              "<matplotlib.axes._subplots.AxesSubplot at 0x7f6305532e10>"
            ]
          },
          "metadata": {},
          "execution_count": 14
        },
        {
          "output_type": "display_data",
          "data": {
            "text/plain": [
              "<Figure size 72x72 with 1 Axes>"
            ],
            "image/png": "[encoded data removed]"
          },
          "metadata": {
            "needs_background": "light"
          }
        }
      ]
    },
    {
      "cell_type": "code",
      "source": [
        "a_3 = stacked_threes[1]\n",
        "dist_3_abs = (a_3-mean3).abs().mean()\n",
        "dist_3_sqr = ((a_3 - mean3)**2).mean().sqrt()\n",
        "\n",
        "dist_3_abs, dist_3_sqr"
      ],
      "metadata": {
        "colab": {
          "base_uri": "https://localhost:8080/"
        },
        "id": "HCTv-i_KNs7l",
        "outputId": "206f5284-f80a-4b3b-f4cf-95f1ae91dcda"
      },
      "execution_count": null,
      "outputs": [
        {
          "output_type": "execute_result",
          "data": {
            "text/plain": [
              "(tensor(0.1114), tensor(0.2021))"
            ]
          },
          "metadata": {},
          "execution_count": 15
        }
      ]
    },
    {
      "cell_type": "code",
      "source": [
        "\n",
        "dist_7_abs = (a_3-mean7).abs().mean()\n",
        "dist_7_sqr = ((a_3 - mean7)**2).mean().sqrt()\n",
        "\n",
        "dist_7_abs, dist_7_sqr"
      ],
      "metadata": {
        "colab": {
          "base_uri": "https://localhost:8080/"
        },
        "id": "7dJGHoTXOM7A",
        "outputId": "ac05db56-b2b6-49a1-dbd7-fc4846792d8f"
      },
      "execution_count": null,
      "outputs": [
        {
          "output_type": "execute_result",
          "data": {
            "text/plain": [
              "(tensor(0.1586), tensor(0.3021))"
            ]
          },
          "metadata": {},
          "execution_count": 16
        }
      ]
    },
    {
      "cell_type": "code",
      "source": [
        "F.l1_loss(a_3.float(), mean7), F.mse_loss(a_3, mean7).sqrt()"
      ],
      "metadata": {
        "colab": {
          "base_uri": "https://localhost:8080/"
        },
        "id": "EMOKA8YyOelw",
        "outputId": "22f50530-b0bd-4160-857e-f3a566e7cdf3"
      },
      "execution_count": null,
      "outputs": [
        {
          "output_type": "execute_result",
          "data": {
            "text/plain": [
              "(tensor(0.1586), tensor(0.3021))"
            ]
          },
          "metadata": {},
          "execution_count": 17
        }
      ]
    },
    {
      "cell_type": "markdown",
      "source": [
        "Computing metrics using broadcasting"
      ],
      "metadata": {
        "id": "ue1f2B-Cuz-Z"
      }
    },
    {
      "cell_type": "code",
      "source": [
        "valid_3_tens = torch.stack([tensor(Image.open(o)) for o in (path/'valid'/'3').ls()])\n",
        "valid_3_tens = valid_3_tens.float()/255\n",
        "\n",
        "valid_7_tens = torch.stack([tensor(Image.open(o)) for o in (path/'valid'/'7').ls()])\n",
        "valid_7_tens = valid_7_tens.float()/255\n",
        "\n",
        "valid_3_tens.shape, valid_7_tens.shape"
      ],
      "metadata": {
        "colab": {
          "base_uri": "https://localhost:8080/"
        },
        "id": "pGNU33WcUHy2",
        "outputId": "f1891ee7-0ad3-4c8b-87f5-878839c2e77b"
      },
      "execution_count": null,
      "outputs": [
        {
          "output_type": "execute_result",
          "data": {
            "text/plain": [
              "(torch.Size([1010, 28, 28]), torch.Size([1028, 28, 28]))"
            ]
          },
          "metadata": {},
          "execution_count": 18
        }
      ]
    },
    {
      "cell_type": "code",
      "source": [
        "def mnist_distance(a,b): \n",
        "  dist= (a-b).abs().mean((-1,-2))\n",
        "  return dist\n",
        "\n",
        "mnist_distance(a_3,mean3)"
      ],
      "metadata": {
        "colab": {
          "base_uri": "https://localhost:8080/"
        },
        "id": "JVdyaYU8V09_",
        "outputId": "12a5eca0-3adf-4eb9-b2b8-52a64400bd2b"
      },
      "execution_count": null,
      "outputs": [
        {
          "output_type": "execute_result",
          "data": {
            "text/plain": [
              "tensor(0.1114)"
            ]
          },
          "metadata": {},
          "execution_count": 19
        }
      ]
    },
    {
      "cell_type": "code",
      "source": [
        "valid_3_dist = mnist_distance(valid_3_tens, mean3)\n",
        "valid_3_dist"
      ],
      "metadata": {
        "colab": {
          "base_uri": "https://localhost:8080/"
        },
        "id": "15ceU9BYWezw",
        "outputId": "66c29ebd-f489-4822-d54c-cfc85fa54987"
      },
      "execution_count": null,
      "outputs": [
        {
          "output_type": "execute_result",
          "data": {
            "text/plain": [
              "tensor([0.1241, 0.1360, 0.1254,  ..., 0.1381, 0.1325, 0.1419])"
            ]
          },
          "metadata": {},
          "execution_count": 20
        }
      ]
    },
    {
      "cell_type": "code",
      "source": [
        "def is_3(x) :\n",
        "  return mnist_distance(x, mean3) < mnist_distance(x, mean7)"
      ],
      "metadata": {
        "id": "DLJ_ltcHYN4o"
      },
      "execution_count": null,
      "outputs": []
    },
    {
      "cell_type": "code",
      "source": [
        "is_3(a_3), is_3(a_3).float()"
      ],
      "metadata": {
        "colab": {
          "base_uri": "https://localhost:8080/"
        },
        "id": "PxkUVDrdYcN4",
        "outputId": "3468b8af-86ff-4bf2-8f1c-6f92db34d0b0"
      },
      "execution_count": null,
      "outputs": [
        {
          "output_type": "execute_result",
          "data": {
            "text/plain": [
              "(tensor(True), tensor(1.))"
            ]
          },
          "metadata": {},
          "execution_count": 22
        }
      ]
    },
    {
      "cell_type": "code",
      "source": [
        "is_3(valid_3_tens)"
      ],
      "metadata": {
        "colab": {
          "base_uri": "https://localhost:8080/"
        },
        "id": "MFeNNNi3YuA2",
        "outputId": "67fdfca0-bb27-4847-8c72-5c23213fb08d"
      },
      "execution_count": null,
      "outputs": [
        {
          "output_type": "execute_result",
          "data": {
            "text/plain": [
              "tensor([True, True, True,  ..., True, True, True])"
            ]
          },
          "metadata": {},
          "execution_count": 23
        }
      ]
    },
    {
      "cell_type": "code",
      "source": [
        "accuracy_3s = is_3(valid_3_tens).float().mean()\n",
        "accuracy_7s = (1-is_3(valid_7_tens).float()).mean()\n",
        "\n",
        "accuracy_3s, accuracy_7s, (accuracy_3s + accuracy_7s)/2"
      ],
      "metadata": {
        "colab": {
          "base_uri": "https://localhost:8080/"
        },
        "id": "_OtU3-y4Y3fD",
        "outputId": "8d57cdf9-dc6d-4e32-9809-e1f267b06f3a"
      },
      "execution_count": null,
      "outputs": [
        {
          "output_type": "execute_result",
          "data": {
            "text/plain": [
              "(tensor(0.9168), tensor(0.9854), tensor(0.9511))"
            ]
          },
          "metadata": {},
          "execution_count": 24
        }
      ]
    },
    {
      "cell_type": "markdown",
      "source": [
        "Stoachastic gradient descent"
      ],
      "metadata": {
        "id": "FG0QYAhOu9Yx"
      }
    },
    {
      "cell_type": "code",
      "source": [
        "def f(x):\n",
        "  return x**2"
      ],
      "metadata": {
        "id": "gzG-kUt0NJOK"
      },
      "execution_count": null,
      "outputs": []
    },
    {
      "cell_type": "code",
      "source": [
        "def plot_function(f, tx=None, ty=None, title=None, min=-2, max=2, figsize=(6,4)):\n",
        "    x = torch.linspace(min,max)\n",
        "    fig,ax = plt.subplots(figsize=figsize)\n",
        "    ax.plot(x,f(x))\n",
        "    if tx is not None: ax.set_xlabel(tx)\n",
        "    if ty is not None: ax.set_ylabel(ty)\n",
        "    if title is not None: ax.set_title(title)"
      ],
      "metadata": {
        "id": "SmEg0ecJOJEz"
      },
      "execution_count": null,
      "outputs": []
    },
    {
      "cell_type": "code",
      "source": [
        "xt = tensor(3.).requires_grad_()"
      ],
      "metadata": {
        "id": "szPA2CPfNOcE"
      },
      "execution_count": null,
      "outputs": []
    },
    {
      "cell_type": "code",
      "source": [
        "yt=f(xt)\n",
        "yt"
      ],
      "metadata": {
        "colab": {
          "base_uri": "https://localhost:8080/"
        },
        "id": "0Gz1GCYTOu_7",
        "outputId": "b30c14d9-d234-4a2f-fcd2-a82b39977b8c"
      },
      "execution_count": null,
      "outputs": [
        {
          "output_type": "execute_result",
          "data": {
            "text/plain": [
              "tensor(9., grad_fn=<PowBackward0>)"
            ]
          },
          "metadata": {},
          "execution_count": 35
        }
      ]
    },
    {
      "cell_type": "code",
      "source": [
        "yt.backward()"
      ],
      "metadata": {
        "id": "A4q-014UPHgI"
      },
      "execution_count": null,
      "outputs": []
    },
    {
      "cell_type": "code",
      "source": [
        "xt.grad"
      ],
      "metadata": {
        "colab": {
          "base_uri": "https://localhost:8080/"
        },
        "id": "-osquRLNPUoi",
        "outputId": "7e12425c-6524-432c-a8e6-d13a9500ddbc"
      },
      "execution_count": null,
      "outputs": [
        {
          "output_type": "execute_result",
          "data": {
            "text/plain": [
              "tensor(6.)"
            ]
          },
          "metadata": {},
          "execution_count": 37
        }
      ]
    },
    {
      "cell_type": "code",
      "source": [
        "xt = tensor([3., 4., 10.]).requires_grad_()\n",
        "xt"
      ],
      "metadata": {
        "colab": {
          "base_uri": "https://localhost:8080/"
        },
        "id": "KVpDyg8JPi5f",
        "outputId": "1ff06c2a-d64b-422e-b7c5-b59f35a1aa0d"
      },
      "execution_count": null,
      "outputs": [
        {
          "output_type": "execute_result",
          "data": {
            "text/plain": [
              "tensor([ 3.,  4., 10.], requires_grad=True)"
            ]
          },
          "metadata": {},
          "execution_count": 39
        }
      ]
    },
    {
      "cell_type": "code",
      "source": [
        "def f(x):\n",
        "  return (x**2).sum()"
      ],
      "metadata": {
        "id": "I6nykH6EP5rm"
      },
      "execution_count": null,
      "outputs": []
    },
    {
      "cell_type": "code",
      "source": [
        "yt = f(xt)\n",
        "yt"
      ],
      "metadata": {
        "colab": {
          "base_uri": "https://localhost:8080/"
        },
        "id": "SBE5fOP2P-OC",
        "outputId": "4880223f-7ac9-48f1-e13a-b8bad11c6ae8"
      },
      "execution_count": null,
      "outputs": [
        {
          "output_type": "execute_result",
          "data": {
            "text/plain": [
              "tensor(125., grad_fn=<SumBackward0>)"
            ]
          },
          "metadata": {},
          "execution_count": 41
        }
      ]
    },
    {
      "cell_type": "code",
      "source": [
        "yt.backward()\n",
        "xt.grad"
      ],
      "metadata": {
        "colab": {
          "base_uri": "https://localhost:8080/"
        },
        "id": "wfyS50qCQGvB",
        "outputId": "0eacd485-9d30-4fb6-8ce9-7695c2a11bb5"
      },
      "execution_count": null,
      "outputs": [
        {
          "output_type": "execute_result",
          "data": {
            "text/plain": [
              "tensor([ 6.,  8., 20.])"
            ]
          },
          "metadata": {},
          "execution_count": 42
        }
      ]
    },
    {
      "cell_type": "markdown",
      "source": [
        "The MNIST loss function"
      ],
      "metadata": {
        "id": "ivtQNJx6vKmV"
      }
    },
    {
      "cell_type": "code",
      "source": [
        "train_x = torch.cat([stacked_threes, stacked_sevens]).view(-1, 28*28)\n"
      ],
      "metadata": {
        "id": "84xJtdyxWFml"
      },
      "execution_count": null,
      "outputs": []
    },
    {
      "cell_type": "code",
      "source": [
        "train_y = tensor([1]*len(threes) +[0]*len(sevens)).unsqueeze(1)\n",
        "train_x.shape, train_y.shape"
      ],
      "metadata": {
        "colab": {
          "base_uri": "https://localhost:8080/"
        },
        "id": "rgNjEdUTWUv3",
        "outputId": "ec33acf1-7e45-40b5-f150-dd03f18e6c66"
      },
      "execution_count": null,
      "outputs": [
        {
          "output_type": "execute_result",
          "data": {
            "text/plain": [
              "(torch.Size([12396, 784]), torch.Size([12396, 1]))"
            ]
          },
          "metadata": {},
          "execution_count": 49
        }
      ]
    },
    {
      "cell_type": "code",
      "source": [
        "dset = list(zip(train_x, train_y))\n",
        "x,y = dset[0]\n",
        "x.shape, y"
      ],
      "metadata": {
        "colab": {
          "base_uri": "https://localhost:8080/"
        },
        "id": "nfh0b8mHXcaB",
        "outputId": "191ab36c-30d2-401b-ee0f-2e4ddf228dfb"
      },
      "execution_count": null,
      "outputs": [
        {
          "output_type": "execute_result",
          "data": {
            "text/plain": [
              "(torch.Size([784]), tensor([1]))"
            ]
          },
          "metadata": {},
          "execution_count": 50
        }
      ]
    },
    {
      "cell_type": "code",
      "source": [
        "valid_x = torch.cat([valid_3_tens, valid_7_tens]).view(-1,28*28)\n",
        "valid_y = tensor([1]*len(valid_3_tens)+[0]*len(valid_7_tens)).unsqueeze(1)\n",
        "valid_dset=list(zip(valid_x, valid_y))\n"
      ],
      "metadata": {
        "id": "pxRrf-gXXvvt"
      },
      "execution_count": null,
      "outputs": []
    },
    {
      "cell_type": "code",
      "source": [
        "def init_params(size, std=1.0):\n",
        "  return (torch.randn(size)*std).requires_grad_()\n",
        "\n",
        "weights = init_params((28*28,1))"
      ],
      "metadata": {
        "id": "-csgf7vFagKg"
      },
      "execution_count": null,
      "outputs": []
    },
    {
      "cell_type": "code",
      "source": [
        "bias = init_params(1)"
      ],
      "metadata": {
        "id": "7bTAmx0xay3k"
      },
      "execution_count": null,
      "outputs": []
    },
    {
      "cell_type": "code",
      "source": [
        "bias"
      ],
      "metadata": {
        "colab": {
          "base_uri": "https://localhost:8080/"
        },
        "id": "TkQtVpIibBt5",
        "outputId": "2ba485b4-167b-4f07-d953-afddfa6d0f90"
      },
      "execution_count": null,
      "outputs": [
        {
          "output_type": "execute_result",
          "data": {
            "text/plain": [
              "tensor([-1.6853], requires_grad=True)"
            ]
          },
          "metadata": {},
          "execution_count": 59
        }
      ]
    },
    {
      "cell_type": "code",
      "source": [
        "(train_x[0]*weights.T).sum() + bias"
      ],
      "metadata": {
        "colab": {
          "base_uri": "https://localhost:8080/"
        },
        "id": "2xXw1C8sbDG8",
        "outputId": "ed3e8cf3-9766-4f77-92c5-2c2c91e36a75"
      },
      "execution_count": null,
      "outputs": [
        {
          "output_type": "execute_result",
          "data": {
            "text/plain": [
              "tensor([9.3312], grad_fn=<AddBackward0>)"
            ]
          },
          "metadata": {},
          "execution_count": 60
        }
      ]
    },
    {
      "cell_type": "code",
      "source": [
        "def linear1(xb):\n",
        "  return xb@weights + bias\n",
        "\n",
        "preds= linear1(train_x)\n"
      ],
      "metadata": {
        "id": "3ENXUx4ubkSn"
      },
      "execution_count": null,
      "outputs": []
    },
    {
      "cell_type": "code",
      "source": [
        "corrects= (preds>0.0).float()==train_y\n",
        "corrects.float().mean().item()"
      ],
      "metadata": {
        "colab": {
          "base_uri": "https://localhost:8080/"
        },
        "id": "OJigZ_7Viz5X",
        "outputId": "9c9b3c75-759d-48b2-985c-fa51eb9f9541"
      },
      "execution_count": null,
      "outputs": [
        {
          "output_type": "execute_result",
          "data": {
            "text/plain": [
              "0.6048725247383118"
            ]
          },
          "metadata": {},
          "execution_count": 62
        }
      ]
    },
    {
      "cell_type": "code",
      "source": [
        "def mnist_loss(predictions, targets):\n",
        "  return torch.where(targets==1, 1-predictions, predictions).mean()"
      ],
      "metadata": {
        "id": "BC1M3Lf4nLCC"
      },
      "execution_count": null,
      "outputs": []
    },
    {
      "cell_type": "code",
      "source": [
        "coll = range(15)\n",
        "dl = DataLoader(coll, batch_size=5, shuffle=True)\n",
        "list(dl)"
      ],
      "metadata": {
        "colab": {
          "base_uri": "https://localhost:8080/"
        },
        "id": "RlHH-f7how5c",
        "outputId": "649d9284-71ea-4bb1-f796-051ae39df2ff"
      },
      "execution_count": null,
      "outputs": [
        {
          "output_type": "execute_result",
          "data": {
            "text/plain": [
              "[tensor([ 6, 14,  5,  1,  9]),\n",
              " tensor([11,  2,  8,  3, 10]),\n",
              " tensor([12,  4,  7, 13,  0])]"
            ]
          },
          "metadata": {},
          "execution_count": 65
        }
      ]
    },
    {
      "cell_type": "code",
      "source": [
        "weights = init_params((28*28,1))\n",
        "bias = init_params(1)"
      ],
      "metadata": {
        "id": "8pWG1noWpRtE"
      },
      "execution_count": null,
      "outputs": []
    },
    {
      "cell_type": "markdown",
      "source": [
        "Putting it all together"
      ],
      "metadata": {
        "id": "IWRHAsdevaCy"
      }
    },
    {
      "cell_type": "code",
      "source": [
        "dl = DataLoader(dset, batch_size=256)\n",
        "xb, yb = first(dl)\n",
        "xb.shape, yb.shape"
      ],
      "metadata": {
        "colab": {
          "base_uri": "https://localhost:8080/"
        },
        "id": "Chs-3v7Rpfkn",
        "outputId": "f61b4ca2-273a-4158-cad9-aa033c992e48"
      },
      "execution_count": null,
      "outputs": [
        {
          "output_type": "execute_result",
          "data": {
            "text/plain": [
              "(torch.Size([256, 784]), torch.Size([256, 1]))"
            ]
          },
          "metadata": {},
          "execution_count": 66
        }
      ]
    },
    {
      "cell_type": "code",
      "source": [
        "valid_dl = DataLoader(valid_dset, batch_size=256)"
      ],
      "metadata": {
        "id": "CZrGtPHlpp6g"
      },
      "execution_count": null,
      "outputs": []
    },
    {
      "cell_type": "code",
      "source": [
        "batch = train_x[:4]\n",
        "batch.shape"
      ],
      "metadata": {
        "colab": {
          "base_uri": "https://localhost:8080/"
        },
        "id": "-2lwM-4hq9HF",
        "outputId": "76f7a3ac-5f29-4a15-ee3b-bc45d98adb39"
      },
      "execution_count": null,
      "outputs": [
        {
          "output_type": "execute_result",
          "data": {
            "text/plain": [
              "torch.Size([4, 784])"
            ]
          },
          "metadata": {},
          "execution_count": 67
        }
      ]
    },
    {
      "cell_type": "code",
      "source": [
        "preds = linear1(batch)\n",
        "preds"
      ],
      "metadata": {
        "colab": {
          "base_uri": "https://localhost:8080/"
        },
        "id": "hTwg474-rCgk",
        "outputId": "944ede43-2360-4365-f50a-e593fbf4b32d"
      },
      "execution_count": null,
      "outputs": [
        {
          "output_type": "execute_result",
          "data": {
            "text/plain": [
              "tensor([[ 9.3312],\n",
              "        [10.9280],\n",
              "        [ 4.7978],\n",
              "        [ 7.3385]], grad_fn=<AddBackward0>)"
            ]
          },
          "metadata": {},
          "execution_count": 68
        }
      ]
    },
    {
      "cell_type": "code",
      "source": [
        "loss = mnist_loss(preds, train_y[:4])\n",
        "loss"
      ],
      "metadata": {
        "colab": {
          "base_uri": "https://localhost:8080/"
        },
        "id": "MDWk0lYMrIjS",
        "outputId": "15f685c5-6c09-4952-ee50-6b1ca9204ff4"
      },
      "execution_count": null,
      "outputs": [
        {
          "output_type": "execute_result",
          "data": {
            "text/plain": [
              "tensor(-7.0989, grad_fn=<MeanBackward0>)"
            ]
          },
          "metadata": {},
          "execution_count": 70
        }
      ]
    },
    {
      "cell_type": "code",
      "source": [
        "loss.backward()\n",
        "weights.grad.shape, weights.grad.mean(), bias.grad"
      ],
      "metadata": {
        "colab": {
          "base_uri": "https://localhost:8080/"
        },
        "id": "rEg32hWXrQR1",
        "outputId": "16515d0e-c8bc-4eb2-ad9c-b3ded124d09b"
      },
      "execution_count": null,
      "outputs": [
        {
          "output_type": "execute_result",
          "data": {
            "text/plain": [
              "(torch.Size([784, 1]), tensor(-0.1511), tensor([-1.]))"
            ]
          },
          "metadata": {},
          "execution_count": 71
        }
      ]
    },
    {
      "cell_type": "code",
      "source": [
        "def calc_grad(xb, yb, model):\n",
        "  preds = model(xb)\n",
        "  loss = mnist_loss(preds, yb)\n",
        "  loss.backward()"
      ],
      "metadata": {
        "id": "-NLBjaQZrbHB"
      },
      "execution_count": null,
      "outputs": []
    },
    {
      "cell_type": "code",
      "source": [
        "calc_grad(batch, train_y[:4], linear1)\n",
        "weights.grad.mean(), bias.grad"
      ],
      "metadata": {
        "colab": {
          "base_uri": "https://localhost:8080/"
        },
        "id": "Y7K5MPo8rnn3",
        "outputId": "73777e4d-9ca3-4ef9-fe39-0112d81de624"
      },
      "execution_count": null,
      "outputs": [
        {
          "output_type": "execute_result",
          "data": {
            "text/plain": [
              "(tensor(-0.3022), tensor([-2.]))"
            ]
          },
          "metadata": {},
          "execution_count": 73
        }
      ]
    },
    {
      "cell_type": "code",
      "source": [
        "weights.grad.zero_()\n",
        "bias.grad.zero_()"
      ],
      "metadata": {
        "colab": {
          "base_uri": "https://localhost:8080/"
        },
        "id": "a17Kq1gzr2PN",
        "outputId": "60074c03-0cde-440d-97a8-9bd1395fc4b7"
      },
      "execution_count": null,
      "outputs": [
        {
          "output_type": "execute_result",
          "data": {
            "text/plain": [
              "tensor([0.])"
            ]
          },
          "metadata": {},
          "execution_count": 74
        }
      ]
    },
    {
      "cell_type": "code",
      "source": [
        "def train_epoch(model, lr, params):\n",
        "  for xb, yb in dl:\n",
        "    calc_grad(xb, yb, model)\n",
        "    for p in params:\n",
        "      p.data -= p.grad*lr\n",
        "      p.grad.zero_()\n"
      ],
      "metadata": {
        "id": "swuVYvclsGBC"
      },
      "execution_count": null,
      "outputs": []
    },
    {
      "cell_type": "code",
      "source": [
        "def batch_accuracy(xb, yb):\n",
        "  preds = xb.sigmoid()\n",
        "  correct = (preds>0.5)==yb\n",
        "  return correct.float().mean()\n"
      ],
      "metadata": {
        "id": "QkyTnFMEsj2q"
      },
      "execution_count": null,
      "outputs": []
    },
    {
      "cell_type": "code",
      "source": [
        "def validate_epoch(model):\n",
        "  accs = [batch_accuracy(model(xb), yb) for xb, yb in valid_dl]\n",
        "  return round(torch.stack(accs).mean().item(),4)\n"
      ],
      "metadata": {
        "id": "96ysZG7Hs0Eg"
      },
      "execution_count": null,
      "outputs": []
    },
    {
      "cell_type": "code",
      "source": [
        "lr=1.\n",
        "params = weights, bias\n",
        "train_epoch(linear1, lr, params)\n",
        "validate_epoch(linear1)"
      ],
      "metadata": {
        "colab": {
          "base_uri": "https://localhost:8080/"
        },
        "id": "7GdaOQGttK_g",
        "outputId": "ab041ec3-f12c-4ad6-b8f4-8ba33957f613"
      },
      "execution_count": null,
      "outputs": [
        {
          "output_type": "execute_result",
          "data": {
            "text/plain": [
              "0.9537"
            ]
          },
          "metadata": {},
          "execution_count": 81
        }
      ]
    },
    {
      "cell_type": "code",
      "source": [
        "for i in range(100):\n",
        "  train_epoch(linear1, lr, params)\n",
        "  print(validate_epoch(linear1), end=' ')"
      ],
      "metadata": {
        "colab": {
          "base_uri": "https://localhost:8080/"
        },
        "id": "PvkwOVDKtoCx",
        "outputId": "69fdf88f-370a-42be-ec5a-4f08e6c3b70d"
      },
      "execution_count": null,
      "outputs": [
        {
          "output_type": "stream",
          "name": "stdout",
          "text": [
            "0.9533 0.9533 0.9533 0.9533 0.9533 0.9533 0.9533 0.9533 0.9533 0.9533 0.9533 0.9533 0.9533 0.9533 0.9533 0.9533 0.9533 0.9533 0.9533 0.9533 0.9533 0.9533 0.9533 0.9533 0.9533 0.9533 0.9533 0.9533 0.9533 0.9533 0.9533 0.9533 0.9533 0.9533 0.9533 0.9533 0.9533 0.9533 0.9533 0.9533 0.9533 0.9533 0.9533 0.9533 0.9533 0.9533 0.9533 0.9533 0.9533 0.9533 0.9533 0.9533 0.9533 0.9533 0.9533 0.9533 0.9533 0.9533 0.9533 0.9533 0.9533 0.9533 0.9533 0.9533 0.9533 0.9533 0.9533 0.9533 0.9533 0.9533 0.9533 0.9533 0.9533 0.9533 0.9533 0.9533 0.9533 0.9533 0.9533 0.9533 0.9533 0.9533 0.9533 0.9533 0.9533 0.9533 0.9533 0.9533 0.9533 0.9533 0.9533 0.9533 0.9533 0.9533 0.9533 0.9533 0.9533 0.9533 0.9533 0.9533 "
          ]
        }
      ]
    },
    {
      "cell_type": "markdown",
      "source": [
        "Creating an optimizer"
      ],
      "metadata": {
        "id": "arYG0otsvfbl"
      }
    },
    {
      "cell_type": "code",
      "source": [
        "linear_model = nn.Linear(28*28,1)\n"
      ],
      "metadata": {
        "id": "1ELmNNrouLIF"
      },
      "execution_count": null,
      "outputs": []
    },
    {
      "cell_type": "code",
      "source": [
        "w,b = linear_model.parameters()\n",
        "w.shape, b.shape"
      ],
      "metadata": {
        "colab": {
          "base_uri": "https://localhost:8080/"
        },
        "id": "QLdy1KeGuS0O",
        "outputId": "12703c7a-8e7e-4627-ced0-77125471823f"
      },
      "execution_count": null,
      "outputs": [
        {
          "output_type": "execute_result",
          "data": {
            "text/plain": [
              "(torch.Size([1, 784]), torch.Size([1]))"
            ]
          },
          "metadata": {},
          "execution_count": 85
        }
      ]
    },
    {
      "cell_type": "code",
      "source": [
        "class BasicOptim :\n",
        "  def __init__(self, params, lr): \n",
        "    self.params,self.lr=list(params), lr\n",
        "\n",
        "  def step(self, *args, **kwargs):\n",
        "    for p in self.params:\n",
        "      p.data -= p.grad.data * self.lr\n",
        "\n",
        "  def zero_grad(self, *args, **kwargs):\n",
        "    for p in self.params:\n",
        "      p.grad = None\n",
        " "
      ],
      "metadata": {
        "id": "6pWu8oz7uazd"
      },
      "execution_count": null,
      "outputs": []
    },
    {
      "cell_type": "code",
      "source": [
        "opt=BasicOptim(linear_model.parameters(), lr)"
      ],
      "metadata": {
        "id": "3sd2W2rkwDzs"
      },
      "execution_count": null,
      "outputs": []
    },
    {
      "cell_type": "code",
      "source": [
        "def train_epoch(model):\n",
        "  for xb, yb in dl:\n",
        "    calc_grad(xb, yb, model)\n",
        "    opt.step()\n",
        "    opt.zero_grad()\n",
        "    "
      ],
      "metadata": {
        "id": "Y_nE3nD4wK3B"
      },
      "execution_count": null,
      "outputs": []
    },
    {
      "cell_type": "code",
      "source": [
        "validate_epoch(linear_model)"
      ],
      "metadata": {
        "colab": {
          "base_uri": "https://localhost:8080/"
        },
        "id": "xbr-H0w3wsv-",
        "outputId": "5dab79a4-e9e3-40be-bffa-ebc5e7d8db87"
      },
      "execution_count": null,
      "outputs": [
        {
          "output_type": "execute_result",
          "data": {
            "text/plain": [
              "0.4845"
            ]
          },
          "metadata": {},
          "execution_count": 89
        }
      ]
    },
    {
      "cell_type": "code",
      "source": [
        "def train_model(model, epochs):\n",
        "  for i in range(epochs):\n",
        "    train_epoch(model)\n",
        "    print(validate_epoch(model), end=' ')"
      ],
      "metadata": {
        "id": "43vIMpr2wxqW"
      },
      "execution_count": null,
      "outputs": []
    },
    {
      "cell_type": "code",
      "source": [
        "train_model(linear_model, 20)"
      ],
      "metadata": {
        "colab": {
          "base_uri": "https://localhost:8080/"
        },
        "id": "MkvgxbMSxACq",
        "outputId": "e54f6b49-dd48-455f-e291-06010ad5d8dd"
      },
      "execution_count": null,
      "outputs": [
        {
          "output_type": "stream",
          "name": "stdout",
          "text": [
            "0.9533 0.9533 0.9533 0.9533 0.9533 0.9533 0.9533 0.9533 0.9533 0.9533 0.9533 0.9533 0.9533 0.9533 0.9533 0.9533 0.9533 0.9533 0.9533 0.9533 "
          ]
        }
      ]
    },
    {
      "cell_type": "code",
      "source": [
        "linear_model = nn.Linear(28*28,1)\n",
        "opt= SGD(linear_model.parameters(), lr)\n",
        "train_model(linear_model, 20)"
      ],
      "metadata": {
        "colab": {
          "base_uri": "https://localhost:8080/"
        },
        "id": "VmcuvNolxIHB",
        "outputId": "6e67288b-9649-45b4-f110-6f134716a9b4"
      },
      "execution_count": null,
      "outputs": [
        {
          "output_type": "stream",
          "name": "stdout",
          "text": [
            "0.9533 0.9533 0.9533 0.9533 0.9533 0.9533 0.9533 0.9533 0.9533 0.9533 0.9533 0.9533 0.9533 0.9533 0.9533 0.9533 0.9533 0.9533 0.9533 0.9533 "
          ]
        }
      ]
    },
    {
      "cell_type": "code",
      "source": [
        "dls = DataLoaders(dl, valid_dl)"
      ],
      "metadata": {
        "id": "rvluIuY6xXBJ"
      },
      "execution_count": null,
      "outputs": []
    },
    {
      "cell_type": "code",
      "source": [
        "learn = Learner(dls, nn.Linear(28*28,1), opt_func= SGD, loss_func = mnist_loss, metrics= batch_accuracy)"
      ],
      "metadata": {
        "id": "d3tq7tg_xhhl"
      },
      "execution_count": null,
      "outputs": []
    },
    {
      "cell_type": "code",
      "source": [
        "learn.fit(10, lr=lr)"
      ],
      "metadata": {
        "colab": {
          "base_uri": "https://localhost:8080/",
          "height": 359
        },
        "id": "87uuzK0jxukL",
        "outputId": "81afb450-587c-4f16-bed3-ef401e779d1e"
      },
      "execution_count": null,
      "outputs": [
        {
          "output_type": "display_data",
          "data": {
            "text/plain": [
              "<IPython.core.display.HTML object>"
            ],
            "text/html": [
              "\n",
              "<style>\n",
              "    /* Turns off some styling */\n",
              "    progress {\n",
              "        /* gets rid of default border in Firefox and Opera. */\n",
              "        border: none;\n",
              "        /* Needs to be in here for Safari polyfill so background images work as expected. */\n",
              "        background-size: auto;\n",
              "    }\n",
              "    .progress-bar-interrupted, .progress-bar-interrupted::-webkit-progress-bar {\n",
              "        background: #F44336;\n",
              "    }\n",
              "</style>\n"
            ]
          },
          "metadata": {}
        },
        {
          "output_type": "display_data",
          "data": {
            "text/plain": [
              "<IPython.core.display.HTML object>"
            ],
            "text/html": [
              "<table border=\"1\" class=\"dataframe\">\n",
              "  <thead>\n",
              "    <tr style=\"text-align: left;\">\n",
              "      <th>epoch</th>\n",
              "      <th>train_loss</th>\n",
              "      <th>valid_loss</th>\n",
              "      <th>batch_accuracy</th>\n",
              "      <th>time</th>\n",
              "    </tr>\n",
              "  </thead>\n",
              "  <tbody>\n",
              "    <tr>\n",
              "      <td>0</td>\n",
              "      <td>-82.939682</td>\n",
              "      <td>-335.748169</td>\n",
              "      <td>0.953386</td>\n",
              "      <td>00:00</td>\n",
              "    </tr>\n",
              "    <tr>\n",
              "      <td>1</td>\n",
              "      <td>-309.312866</td>\n",
              "      <td>-672.065002</td>\n",
              "      <td>0.953386</td>\n",
              "      <td>00:00</td>\n",
              "    </tr>\n",
              "    <tr>\n",
              "      <td>2</td>\n",
              "      <td>-570.700806</td>\n",
              "      <td>-1008.381897</td>\n",
              "      <td>0.953386</td>\n",
              "      <td>00:00</td>\n",
              "    </tr>\n",
              "    <tr>\n",
              "      <td>3</td>\n",
              "      <td>-854.954163</td>\n",
              "      <td>-1344.698608</td>\n",
              "      <td>0.953386</td>\n",
              "      <td>00:00</td>\n",
              "    </tr>\n",
              "    <tr>\n",
              "      <td>4</td>\n",
              "      <td>-1152.384277</td>\n",
              "      <td>-1681.015503</td>\n",
              "      <td>0.953386</td>\n",
              "      <td>00:00</td>\n",
              "    </tr>\n",
              "    <tr>\n",
              "      <td>5</td>\n",
              "      <td>-1456.717896</td>\n",
              "      <td>-2017.332520</td>\n",
              "      <td>0.953386</td>\n",
              "      <td>00:00</td>\n",
              "    </tr>\n",
              "    <tr>\n",
              "      <td>6</td>\n",
              "      <td>-1764.422241</td>\n",
              "      <td>-2353.649414</td>\n",
              "      <td>0.953386</td>\n",
              "      <td>00:00</td>\n",
              "    </tr>\n",
              "    <tr>\n",
              "      <td>7</td>\n",
              "      <td>-2073.690918</td>\n",
              "      <td>-2689.966064</td>\n",
              "      <td>0.953386</td>\n",
              "      <td>00:00</td>\n",
              "    </tr>\n",
              "    <tr>\n",
              "      <td>8</td>\n",
              "      <td>-2383.658936</td>\n",
              "      <td>-3026.282959</td>\n",
              "      <td>0.953386</td>\n",
              "      <td>00:00</td>\n",
              "    </tr>\n",
              "    <tr>\n",
              "      <td>9</td>\n",
              "      <td>-2693.931396</td>\n",
              "      <td>-3362.600098</td>\n",
              "      <td>0.953386</td>\n",
              "      <td>00:00</td>\n",
              "    </tr>\n",
              "  </tbody>\n",
              "</table>"
            ]
          },
          "metadata": {}
        }
      ]
    },
    {
      "cell_type": "markdown",
      "source": [
        "Adding a non linearity"
      ],
      "metadata": {
        "id": "UBdWbgKbx7G4"
      }
    },
    {
      "cell_type": "code",
      "source": [
        "def simple_net(xb):\n",
        "  res = xb@w1 +b1\n",
        "  res = res.max(tensor(0.0))\n",
        "  res = res@w2 + b2\n",
        "  return res"
      ],
      "metadata": {
        "id": "vc1A1jVy8OI_"
      },
      "execution_count": null,
      "outputs": []
    },
    {
      "cell_type": "code",
      "source": [
        "simple_net = nn.Sequential(\n",
        "    nn.Linear(28*28,30),\n",
        "    nn.ReLU(),\n",
        "    nn.Linear(30,1)\n",
        ")"
      ],
      "metadata": {
        "id": "IrQc7NAkDjJR"
      },
      "execution_count": null,
      "outputs": []
    },
    {
      "cell_type": "code",
      "source": [
        "learn = Learner(dls, simple_net, opt_func=SGD, loss_func=mnist_loss, metrics=batch_accuracy)\n",
        "learn.fit(40,0.1)"
      ],
      "metadata": {
        "colab": {
          "base_uri": "https://localhost:8080/",
          "height": 1000
        },
        "id": "mO3xyKWZE4EN",
        "outputId": "12e8d393-88d7-491c-9bfc-662f23cd3707"
      },
      "execution_count": null,
      "outputs": [
        {
          "output_type": "display_data",
          "data": {
            "text/plain": [
              "<IPython.core.display.HTML object>"
            ],
            "text/html": [
              "\n",
              "<style>\n",
              "    /* Turns off some styling */\n",
              "    progress {\n",
              "        /* gets rid of default border in Firefox and Opera. */\n",
              "        border: none;\n",
              "        /* Needs to be in here for Safari polyfill so background images work as expected. */\n",
              "        background-size: auto;\n",
              "    }\n",
              "    .progress-bar-interrupted, .progress-bar-interrupted::-webkit-progress-bar {\n",
              "        background: #F44336;\n",
              "    }\n",
              "</style>\n"
            ]
          },
          "metadata": {}
        },
        {
          "output_type": "display_data",
          "data": {
            "text/plain": [
              "<IPython.core.display.HTML object>"
            ],
            "text/html": [
              "<table border=\"1\" class=\"dataframe\">\n",
              "  <thead>\n",
              "    <tr style=\"text-align: left;\">\n",
              "      <th>epoch</th>\n",
              "      <th>train_loss</th>\n",
              "      <th>valid_loss</th>\n",
              "      <th>batch_accuracy</th>\n",
              "      <th>time</th>\n",
              "    </tr>\n",
              "  </thead>\n",
              "  <tbody>\n",
              "    <tr>\n",
              "      <td>0</td>\n",
              "      <td>114418144.000000</td>\n",
              "      <td>-1551916800.000000</td>\n",
              "      <td>0.962218</td>\n",
              "      <td>00:00</td>\n",
              "    </tr>\n",
              "    <tr>\n",
              "      <td>1</td>\n",
              "      <td>1490207416665505792.000000</td>\n",
              "      <td>-27483718103330717696.000000</td>\n",
              "      <td>0.962218</td>\n",
              "      <td>00:00</td>\n",
              "    </tr>\n",
              "    <tr>\n",
              "      <td>2</td>\n",
              "      <td>24079866156465436605609410560.000000</td>\n",
              "      <td>-487680826748268860905118236672.000000</td>\n",
              "      <td>0.961727</td>\n",
              "      <td>00:00</td>\n",
              "    </tr>\n",
              "    <tr>\n",
              "      <td>3</td>\n",
              "      <td>nan</td>\n",
              "      <td>nan</td>\n",
              "      <td>0.962218</td>\n",
              "      <td>00:00</td>\n",
              "    </tr>\n",
              "    <tr>\n",
              "      <td>4</td>\n",
              "      <td>nan</td>\n",
              "      <td>nan</td>\n",
              "      <td>0.504416</td>\n",
              "      <td>00:00</td>\n",
              "    </tr>\n",
              "    <tr>\n",
              "      <td>5</td>\n",
              "      <td>nan</td>\n",
              "      <td>nan</td>\n",
              "      <td>0.504416</td>\n",
              "      <td>00:00</td>\n",
              "    </tr>\n",
              "    <tr>\n",
              "      <td>6</td>\n",
              "      <td>nan</td>\n",
              "      <td>nan</td>\n",
              "      <td>0.504416</td>\n",
              "      <td>00:00</td>\n",
              "    </tr>\n",
              "    <tr>\n",
              "      <td>7</td>\n",
              "      <td>nan</td>\n",
              "      <td>nan</td>\n",
              "      <td>0.504416</td>\n",
              "      <td>00:00</td>\n",
              "    </tr>\n",
              "    <tr>\n",
              "      <td>8</td>\n",
              "      <td>nan</td>\n",
              "      <td>nan</td>\n",
              "      <td>0.504416</td>\n",
              "      <td>00:00</td>\n",
              "    </tr>\n",
              "    <tr>\n",
              "      <td>9</td>\n",
              "      <td>nan</td>\n",
              "      <td>nan</td>\n",
              "      <td>0.504416</td>\n",
              "      <td>00:00</td>\n",
              "    </tr>\n",
              "    <tr>\n",
              "      <td>10</td>\n",
              "      <td>nan</td>\n",
              "      <td>nan</td>\n",
              "      <td>0.504416</td>\n",
              "      <td>00:00</td>\n",
              "    </tr>\n",
              "    <tr>\n",
              "      <td>11</td>\n",
              "      <td>nan</td>\n",
              "      <td>nan</td>\n",
              "      <td>0.504416</td>\n",
              "      <td>00:00</td>\n",
              "    </tr>\n",
              "    <tr>\n",
              "      <td>12</td>\n",
              "      <td>nan</td>\n",
              "      <td>nan</td>\n",
              "      <td>0.504416</td>\n",
              "      <td>00:00</td>\n",
              "    </tr>\n",
              "    <tr>\n",
              "      <td>13</td>\n",
              "      <td>nan</td>\n",
              "      <td>nan</td>\n",
              "      <td>0.504416</td>\n",
              "      <td>00:00</td>\n",
              "    </tr>\n",
              "    <tr>\n",
              "      <td>14</td>\n",
              "      <td>nan</td>\n",
              "      <td>nan</td>\n",
              "      <td>0.504416</td>\n",
              "      <td>00:00</td>\n",
              "    </tr>\n",
              "    <tr>\n",
              "      <td>15</td>\n",
              "      <td>nan</td>\n",
              "      <td>nan</td>\n",
              "      <td>0.504416</td>\n",
              "      <td>00:00</td>\n",
              "    </tr>\n",
              "    <tr>\n",
              "      <td>16</td>\n",
              "      <td>nan</td>\n",
              "      <td>nan</td>\n",
              "      <td>0.504416</td>\n",
              "      <td>00:00</td>\n",
              "    </tr>\n",
              "    <tr>\n",
              "      <td>17</td>\n",
              "      <td>nan</td>\n",
              "      <td>nan</td>\n",
              "      <td>0.504416</td>\n",
              "      <td>00:00</td>\n",
              "    </tr>\n",
              "    <tr>\n",
              "      <td>18</td>\n",
              "      <td>nan</td>\n",
              "      <td>nan</td>\n",
              "      <td>0.504416</td>\n",
              "      <td>00:00</td>\n",
              "    </tr>\n",
              "    <tr>\n",
              "      <td>19</td>\n",
              "      <td>nan</td>\n",
              "      <td>nan</td>\n",
              "      <td>0.504416</td>\n",
              "      <td>00:00</td>\n",
              "    </tr>\n",
              "    <tr>\n",
              "      <td>20</td>\n",
              "      <td>nan</td>\n",
              "      <td>nan</td>\n",
              "      <td>0.504416</td>\n",
              "      <td>00:00</td>\n",
              "    </tr>\n",
              "    <tr>\n",
              "      <td>21</td>\n",
              "      <td>nan</td>\n",
              "      <td>nan</td>\n",
              "      <td>0.504416</td>\n",
              "      <td>00:00</td>\n",
              "    </tr>\n",
              "    <tr>\n",
              "      <td>22</td>\n",
              "      <td>nan</td>\n",
              "      <td>nan</td>\n",
              "      <td>0.504416</td>\n",
              "      <td>00:00</td>\n",
              "    </tr>\n",
              "    <tr>\n",
              "      <td>23</td>\n",
              "      <td>nan</td>\n",
              "      <td>nan</td>\n",
              "      <td>0.504416</td>\n",
              "      <td>00:00</td>\n",
              "    </tr>\n",
              "    <tr>\n",
              "      <td>24</td>\n",
              "      <td>nan</td>\n",
              "      <td>nan</td>\n",
              "      <td>0.504416</td>\n",
              "      <td>00:00</td>\n",
              "    </tr>\n",
              "    <tr>\n",
              "      <td>25</td>\n",
              "      <td>nan</td>\n",
              "      <td>nan</td>\n",
              "      <td>0.504416</td>\n",
              "      <td>00:00</td>\n",
              "    </tr>\n",
              "    <tr>\n",
              "      <td>26</td>\n",
              "      <td>nan</td>\n",
              "      <td>nan</td>\n",
              "      <td>0.504416</td>\n",
              "      <td>00:00</td>\n",
              "    </tr>\n",
              "    <tr>\n",
              "      <td>27</td>\n",
              "      <td>nan</td>\n",
              "      <td>nan</td>\n",
              "      <td>0.504416</td>\n",
              "      <td>00:00</td>\n",
              "    </tr>\n",
              "    <tr>\n",
              "      <td>28</td>\n",
              "      <td>nan</td>\n",
              "      <td>nan</td>\n",
              "      <td>0.504416</td>\n",
              "      <td>00:00</td>\n",
              "    </tr>\n",
              "    <tr>\n",
              "      <td>29</td>\n",
              "      <td>nan</td>\n",
              "      <td>nan</td>\n",
              "      <td>0.504416</td>\n",
              "      <td>00:00</td>\n",
              "    </tr>\n",
              "    <tr>\n",
              "      <td>30</td>\n",
              "      <td>nan</td>\n",
              "      <td>nan</td>\n",
              "      <td>0.504416</td>\n",
              "      <td>00:00</td>\n",
              "    </tr>\n",
              "    <tr>\n",
              "      <td>31</td>\n",
              "      <td>nan</td>\n",
              "      <td>nan</td>\n",
              "      <td>0.504416</td>\n",
              "      <td>00:00</td>\n",
              "    </tr>\n",
              "    <tr>\n",
              "      <td>32</td>\n",
              "      <td>nan</td>\n",
              "      <td>nan</td>\n",
              "      <td>0.504416</td>\n",
              "      <td>00:00</td>\n",
              "    </tr>\n",
              "    <tr>\n",
              "      <td>33</td>\n",
              "      <td>nan</td>\n",
              "      <td>nan</td>\n",
              "      <td>0.504416</td>\n",
              "      <td>00:00</td>\n",
              "    </tr>\n",
              "    <tr>\n",
              "      <td>34</td>\n",
              "      <td>nan</td>\n",
              "      <td>nan</td>\n",
              "      <td>0.504416</td>\n",
              "      <td>00:00</td>\n",
              "    </tr>\n",
              "    <tr>\n",
              "      <td>35</td>\n",
              "      <td>nan</td>\n",
              "      <td>nan</td>\n",
              "      <td>0.504416</td>\n",
              "      <td>00:00</td>\n",
              "    </tr>\n",
              "    <tr>\n",
              "      <td>36</td>\n",
              "      <td>nan</td>\n",
              "      <td>nan</td>\n",
              "      <td>0.504416</td>\n",
              "      <td>00:00</td>\n",
              "    </tr>\n",
              "    <tr>\n",
              "      <td>37</td>\n",
              "      <td>nan</td>\n",
              "      <td>nan</td>\n",
              "      <td>0.504416</td>\n",
              "      <td>00:00</td>\n",
              "    </tr>\n",
              "    <tr>\n",
              "      <td>38</td>\n",
              "      <td>nan</td>\n",
              "      <td>nan</td>\n",
              "      <td>0.504416</td>\n",
              "      <td>00:00</td>\n",
              "    </tr>\n",
              "    <tr>\n",
              "      <td>39</td>\n",
              "      <td>nan</td>\n",
              "      <td>nan</td>\n",
              "      <td>0.504416</td>\n",
              "      <td>00:00</td>\n",
              "    </tr>\n",
              "  </tbody>\n",
              "</table>"
            ]
          },
          "metadata": {}
        }
      ]
    },
    {
      "cell_type": "code",
      "source": [
        "plt.plot(L(learn.recorder.values).itemgot(2))"
      ],
      "metadata": {
        "colab": {
          "base_uri": "https://localhost:8080/",
          "height": 282
        },
        "id": "kahjsI1oFM8a",
        "outputId": "e6647246-c996-4929-d4e6-6c5b496f35db"
      },
      "execution_count": null,
      "outputs": [
        {
          "output_type": "execute_result",
          "data": {
            "text/plain": [
              "[<matplotlib.lines.Line2D at 0x7f6301493250>]"
            ]
          },
          "metadata": {},
          "execution_count": 98
        },
        {
          "output_type": "display_data",
          "data": {
            "text/plain": [
              "<Figure size 432x288 with 1 Axes>"
            ],
            "image/png": "[encoded data removed]"
          },
          "metadata": {
            "needs_background": "light"
          }
        }
      ]
    },
    {
      "cell_type": "code",
      "source": [
        "learn.recorder.values[-1][2]"
      ],
      "metadata": {
        "colab": {
          "base_uri": "https://localhost:8080/"
        },
        "id": "QlIIYnbRFgFG",
        "outputId": "e298ffb0-506e-422a-8cf4-83365ef058c9"
      },
      "execution_count": null,
      "outputs": [
        {
          "output_type": "execute_result",
          "data": {
            "text/plain": [
              "0.5044161081314087"
            ]
          },
          "metadata": {},
          "execution_count": 99
        }
      ]
    },
    {
      "cell_type": "markdown",
      "source": [
        "Going deeper"
      ],
      "metadata": {
        "id": "hzU90AFfF8e1"
      }
    },
    {
      "cell_type": "code",
      "source": [
        "dls = ImageDataLoaders.from_folder(path)\n",
        "learn=cnn_learner(dls, resnet18, pretrained=False, loss_func=F.cross_entropy, metrics=accuracy)\n",
        "learn.fit_one_cycle(1,0.1)"
      ],
      "metadata": {
        "colab": {
          "base_uri": "https://localhost:8080/",
          "height": 202
        },
        "id": "pG1XZfVPF9tc",
        "outputId": "f366d72d-0099-431a-faab-799bec184859"
      },
      "execution_count": null,
      "outputs": [
        {
          "output_type": "stream",
          "name": "stderr",
          "text": [
            "/usr/local/lib/python3.7/dist-packages/fastai/vision/learner.py:287: UserWarning: `cnn_learner` has been renamed to `vision_learner` -- please update your code\n",
            "  warn(\"`cnn_learner` has been renamed to `vision_learner` -- please update your code\")\n",
            "/usr/local/lib/python3.7/dist-packages/torchvision/models/_utils.py:136: UserWarning: Using 'weights' as positional parameter(s) is deprecated since 0.13 and will be removed in 0.15. Please use keyword parameter(s) instead.\n",
            "  f\"Using {sequence_to_str(tuple(keyword_only_kwargs.keys()), separate_last='and ')} as positional \"\n",
            "/usr/local/lib/python3.7/dist-packages/torchvision/models/_utils.py:223: UserWarning: Arguments other than a weight enum or `None` for 'weights' are deprecated since 0.13 and will be removed in 0.15. The current behavior is equivalent to passing `weights=None`.\n",
            "  warnings.warn(msg)\n"
          ]
        },
        {
          "output_type": "display_data",
          "data": {
            "text/plain": [
              "<IPython.core.display.HTML object>"
            ],
            "text/html": [
              "\n",
              "<style>\n",
              "    /* Turns off some styling */\n",
              "    progress {\n",
              "        /* gets rid of default border in Firefox and Opera. */\n",
              "        border: none;\n",
              "        /* Needs to be in here for Safari polyfill so background images work as expected. */\n",
              "        background-size: auto;\n",
              "    }\n",
              "    .progress-bar-interrupted, .progress-bar-interrupted::-webkit-progress-bar {\n",
              "        background: #F44336;\n",
              "    }\n",
              "</style>\n"
            ]
          },
          "metadata": {}
        },
        {
          "output_type": "display_data",
          "data": {
            "text/plain": [
              "<IPython.core.display.HTML object>"
            ],
            "text/html": [
              "<table border=\"1\" class=\"dataframe\">\n",
              "  <thead>\n",
              "    <tr style=\"text-align: left;\">\n",
              "      <th>epoch</th>\n",
              "      <th>train_loss</th>\n",
              "      <th>valid_loss</th>\n",
              "      <th>accuracy</th>\n",
              "      <th>time</th>\n",
              "    </tr>\n",
              "  </thead>\n",
              "  <tbody>\n",
              "    <tr>\n",
              "      <td>0</td>\n",
              "      <td>0.072127</td>\n",
              "      <td>0.029334</td>\n",
              "      <td>0.992149</td>\n",
              "      <td>02:45</td>\n",
              "    </tr>\n",
              "  </tbody>\n",
              "</table>"
            ]
          },
          "metadata": {}
        }
      ]
    }
  ]
}